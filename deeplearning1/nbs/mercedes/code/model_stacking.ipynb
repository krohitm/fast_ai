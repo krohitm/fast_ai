{
 "cells": [
  {
   "cell_type": "markdown",
   "metadata": {},
   "source": [
    "## Importing necessary packages"
   ]
  },
  {
   "cell_type": "code",
   "execution_count": 1,
   "metadata": {
    "collapsed": false
   },
   "outputs": [
    {
     "name": "stderr",
     "output_type": "stream",
     "text": [
      "Using Theano backend.\n",
      "Using cuDNN version 5105 on context None\n",
      "Mapped name None to device cuda: TITAN X (Pascal) (0000:03:00.0)\n"
     ]
    }
   ],
   "source": [
    "import numpy as np # linear algebra\n",
    "import pandas as pd # data processing, CSV file I/O (e.g. pd.read_csv)\n",
    "\n",
    "# preprocessing/decomposition\n",
    "from sklearn.preprocessing import LabelEncoder, StandardScaler, OneHotEncoder\n",
    "from sklearn.decomposition import PCA, FastICA, FactorAnalysis, KernelPCA\n",
    "\n",
    "# keras \n",
    "from keras.models import Sequential, load_model\n",
    "from keras.layers import Dense, Dropout, BatchNormalization, Activation\n",
    "from keras.wrappers.scikit_learn import KerasRegressor\n",
    "from keras.callbacks import EarlyStopping, ModelCheckpoint\n",
    "\n",
    "# model evaluation\n",
    "from sklearn.model_selection import cross_val_score, KFold, train_test_split\n",
    "from sklearn.metrics import r2_score, mean_squared_error\n",
    "\n",
    "# supportive models\n",
    "from sklearn.ensemble import GradientBoostingRegressor\n",
    "# feature selection (from supportive model)\n",
    "from sklearn.feature_selection import SelectFromModel\n",
    "\n",
    "# to make results reproducible\n",
    "seed = 42 # was 42"
   ]
  },
  {
   "cell_type": "code",
   "execution_count": 2,
   "metadata": {
    "collapsed": false
   },
   "outputs": [],
   "source": [
    "# Read datasets\n",
    "train = pd.read_csv('../input/train.csv')\n",
    "test = pd.read_csv('../input/test.csv')"
   ]
  },
  {
   "cell_type": "code",
   "execution_count": 3,
   "metadata": {
    "collapsed": true
   },
   "outputs": [],
   "source": [
    "# save IDs for submission\n",
    "id_test = test['ID'].copy()"
   ]
  },
  {
   "cell_type": "code",
   "execution_count": 4,
   "metadata": {
    "collapsed": false
   },
   "outputs": [
    {
     "name": "stdout",
     "output_type": "stream",
     "text": [
      "initial shape: (8418, 378)\n"
     ]
    }
   ],
   "source": [
    "# glue datasets together\n",
    "total = pd.concat([train, test], axis=0)\n",
    "print('initial shape: {}'.format(total.shape))\n",
    "\n",
    "# binary indexes for train/test set split\n",
    "is_train = ~total.y.isnull()"
   ]
  },
  {
   "cell_type": "code",
   "execution_count": 5,
   "metadata": {
    "collapsed": false
   },
   "outputs": [
    {
     "name": "stdout",
     "output_type": "stream",
     "text": [
      "   X0 X1  X2 X3 X4 X5 X6 X8\n",
      "0   k  v  at  a  d  u  j  o\n",
      "1   k  t  av  e  d  y  l  o\n",
      "2  az  w   n  c  d  x  j  x\n",
      "3  az  t   n  f  d  x  l  e\n",
      "4  az  v   n  f  d  h  d  n\n"
     ]
    }
   ],
   "source": [
    "# find all categorical features\n",
    "cf = total.select_dtypes(include=['object']).columns\n",
    "print total[cf].head()"
   ]
  },
  {
   "cell_type": "code",
   "execution_count": 6,
   "metadata": {
    "collapsed": false
   },
   "outputs": [
    {
     "name": "stdout",
     "output_type": "stream",
     "text": [
      "oh-encoded shape: (8418, 211)\n",
      "   X0_a  X0_aa  X0_ab  X0_ac  X0_ad  X0_ae  X0_af  X0_ag  X0_ai  X0_aj  ...   \\\n",
      "0     0      0      0      0      0      0      0      0      0      0  ...    \n",
      "1     0      0      0      0      0      0      0      0      0      0  ...    \n",
      "2     0      0      0      0      0      0      0      0      0      0  ...    \n",
      "3     0      0      0      0      0      0      0      0      0      0  ...    \n",
      "4     0      0      0      0      0      0      0      0      0      0  ...    \n",
      "\n",
      "   X8_p  X8_q  X8_r  X8_s  X8_t  X8_u  X8_v  X8_w  X8_x  X8_y  \n",
      "0     0     0     0     0     0     0     0     0     0     0  \n",
      "1     0     0     0     0     0     0     0     0     0     0  \n",
      "2     0     0     0     0     0     0     0     0     1     0  \n",
      "3     0     0     0     0     0     0     0     0     0     0  \n",
      "4     0     0     0     0     0     0     0     0     0     0  \n",
      "\n",
      "[5 rows x 211 columns]\n"
     ]
    }
   ],
   "source": [
    "# make one-hot-encoding convenient way - pandas.get_dummies(df) function\n",
    "dummies = pd.get_dummies(\n",
    "    total[cf],\n",
    "    drop_first=False # you can set it = True to ommit multicollinearity (crucial for linear models)\n",
    ")\n",
    "\n",
    "print('oh-encoded shape: {}'.format(dummies.shape))\n",
    "print dummies.head()"
   ]
  },
  {
   "cell_type": "code",
   "execution_count": 7,
   "metadata": {
    "collapsed": false
   },
   "outputs": [
    {
     "name": "stdout",
     "output_type": "stream",
     "text": [
      "appended-encoded shape: (8418, 581)\n"
     ]
    }
   ],
   "source": [
    "# get rid of old columns and append them encoded\n",
    "total = pd.concat(\n",
    "    [\n",
    "        total.drop(cf, axis=1), # drop old\n",
    "        dummies # append them one-hot-encoded\n",
    "    ],\n",
    "    axis=1 # column-wise\n",
    ")\n",
    "\n",
    "print('appended-encoded shape: {}'.format(total.shape))"
   ]
  },
  {
   "cell_type": "code",
   "execution_count": 8,
   "metadata": {
    "collapsed": false
   },
   "outputs": [
    {
     "name": "stdout",
     "output_type": "stream",
     "text": [
      "\n",
      "Train shape: (4209, 580)\n",
      "Test shape: (4209, 579)\n"
     ]
    }
   ],
   "source": [
    "# recreate train/test again, now with dropped ID column\n",
    "train, test = total[is_train].drop(['ID'], axis=1), total[~is_train].drop(['ID', 'y'], axis=1)\n",
    "\n",
    "# drop redundant objects\n",
    "del total\n",
    "\n",
    "# check shape\n",
    "print('\\nTrain shape: {}\\nTest shape: {}'.format(train.shape, test.shape))"
   ]
  },
  {
   "cell_type": "code",
   "execution_count": 9,
   "metadata": {
    "collapsed": false
   },
   "outputs": [
    {
     "name": "stderr",
     "output_type": "stream",
     "text": [
      "/home/krohitm/anaconda2/envs/krohitm/lib/python2.7/site-packages/sklearn/decomposition/fastica_.py:116: UserWarning: FastICA did not converge. Consider increasing tolerance or the maximum number of iterations.\n",
      "  warnings.warn('FastICA did not converge. Consider increasing '\n"
     ]
    }
   ],
   "source": [
    "# Calculate additional features: dimensionality reduction components\n",
    "n_comp=10 # was 10\n",
    "\n",
    "# uncomment to scale data before applying decompositions\n",
    "# however, all features are binary (in [0,1] interval), i don't know if it's worth something\n",
    "train_scaled = train.drop('y', axis=1).copy()\n",
    "test_scaled = test.copy()\n",
    "'''\n",
    "ss = StandardScaler()\n",
    "ss.fit(train.drop('y', axis=1))\n",
    "\n",
    "train_scaled = ss.transform(train.drop('y', axis=1).copy())\n",
    "test_scaled = ss.transform(test.copy())\n",
    "'''\n",
    "\n",
    "# PCA\n",
    "pca = PCA(n_components=n_comp, random_state=seed)\n",
    "pca2_results_train = pca.fit_transform(train_scaled)\n",
    "pca2_results_test = pca.transform(test_scaled)\n",
    "\n",
    "# ICA\n",
    "ica = FastICA(n_components=n_comp, random_state=42)\n",
    "ica2_results_train = ica.fit_transform(train_scaled)\n",
    "ica2_results_test = ica.transform(test_scaled)\n",
    "\n",
    "# Factor Analysis\n",
    "fca = FactorAnalysis(n_components=n_comp, random_state=seed)\n",
    "fca2_results_train = fca.fit_transform(train_scaled)\n",
    "fca2_results_test = fca.transform(test_scaled)\n",
    "\n",
    "# Append it to dataframes\n",
    "for i in range(1, n_comp+1):\n",
    "    train['pca_' + str(i)] = pca2_results_train[:,i-1]\n",
    "    test['pca_' + str(i)] = pca2_results_test[:, i-1]\n",
    "    \n",
    "    train['ica_' + str(i)] = ica2_results_train[:,i-1]\n",
    "    test['ica_' + str(i)] = ica2_results_test[:, i-1]\n",
    "    \n",
    "    #train['fca_' + str(i)] = fca2_results_train[:,i-1]\n",
    "    #test['fca_' + str(i)] = fca2_results_test[:, i-1]\n",
    "   "
   ]
  },
  {
   "cell_type": "code",
   "execution_count": 10,
   "metadata": {
    "collapsed": false
   },
   "outputs": [
    {
     "name": "stdout",
     "output_type": "stream",
     "text": [
      "         importance\n",
      "feature            \n",
      "X119       0.041776\n",
      "X118       0.044236\n",
      "pca_6      0.091539\n",
      "X315       0.128361\n",
      "X314       0.610175\n",
      "\n",
      "Train shape: (4209, 617)\n",
      "Test shape: (4209, 616)\n"
     ]
    }
   ],
   "source": [
    "# create augmentation by feature importances as additional features\n",
    "t = train['y']\n",
    "tr = train.drop(['y'], axis=1)\n",
    "\n",
    "# Tree-based estimators can be used to compute feature importances\n",
    "clf = GradientBoostingRegressor(\n",
    "                max_depth=4, \n",
    "                learning_rate=0.005, \n",
    "                random_state=seed, \n",
    "                subsample=0.95, \n",
    "                n_estimators=200\n",
    ")\n",
    "\n",
    "# fit regressor\n",
    "clf.fit(tr, t)\n",
    "\n",
    "# df to hold feature importances\n",
    "features = pd.DataFrame()\n",
    "features['feature'] = tr.columns\n",
    "features['importance'] = clf.feature_importances_\n",
    "features.sort_values(by=['importance'], ascending=True, inplace=True)\n",
    "features.set_index('feature', inplace=True)\n",
    "\n",
    "print features.tail()\n",
    "\n",
    "# select best features\n",
    "model = SelectFromModel(clf, prefit=True)\n",
    "train_reduced = model.transform(tr)\n",
    "\n",
    "test_reduced = model.transform(test.copy())\n",
    "\n",
    "# dataset augmentation\n",
    "train = pd.concat([train, pd.DataFrame(train_reduced)], axis=1)\n",
    "test = pd.concat([test, pd.DataFrame(test_reduced)], axis=1)\n",
    "\n",
    "# check new shape\n",
    "print('\\nTrain shape: {}\\nTest shape: {}'.format(train.shape, test.shape))"
   ]
  },
  {
   "cell_type": "code",
   "execution_count": 11,
   "metadata": {
    "collapsed": true
   },
   "outputs": [],
   "source": [
    "# define custom R2 metrics for Keras backend\n",
    "from keras import backend as K\n",
    "\n",
    "def r2_keras(y_true, y_pred):\n",
    "    SS_res =  K.sum(K.square( y_true - y_pred )) \n",
    "    SS_tot = K.sum(K.square( y_true - K.mean(y_true) ) ) \n",
    "    return ( 1 - SS_res/(SS_tot + K.epsilon()) )"
   ]
  },
  {
   "cell_type": "code",
   "execution_count": 12,
   "metadata": {
    "collapsed": false
   },
   "outputs": [],
   "source": [
    "from keras.optimizers import SGD, Adagrad, Adadelta\n",
    "# base model architecture definition\n",
    "def model():\n",
    "    model = Sequential()\n",
    "    #input layer\n",
    "    model.add(Dense(input_dims, input_dim=input_dims))\n",
    "    model.add(BatchNormalization())\n",
    "    model.add(Activation('tanh'))\n",
    "    model.add(Dropout(0.3))\n",
    "    # hidden layers\n",
    "    model.add(Dense(input_dims))\n",
    "    model.add(BatchNormalization())\n",
    "    model.add(Activation(act_func))\n",
    "    model.add(Dropout(0.3))\n",
    "    \n",
    "    model.add(Dense(input_dims//2))\n",
    "    model.add(BatchNormalization())\n",
    "    model.add(Activation(act_func))\n",
    "    model.add(Dropout(0.3))\n",
    "    \n",
    "    model.add(Dense(input_dims//4, activation=act_func))\n",
    "    \n",
    "    # output layer (y_pred)\n",
    "    model.add(Dense(1, activation='linear'))\n",
    "    \n",
    "    # compile this model\n",
    "    model.compile(loss='mean_squared_error', # one may use 'mean_absolute_error' as alternative\n",
    "                  #optimizer='adam',\n",
    "                  optimizer=Adadelta(),#SGD(lr=0.0001, momentum=0.9),\n",
    "                  #optimizer=Adagrad(),\n",
    "                  metrics=[r2_keras] # you can add several if needed\n",
    "                 )\n",
    "    \n",
    "    # Visualize NN architecture\n",
    "    print(model.summary())\n",
    "    return model"
   ]
  },
  {
   "cell_type": "code",
   "execution_count": 13,
   "metadata": {
    "collapsed": true
   },
   "outputs": [],
   "source": [
    "# initialize input dimension\n",
    "input_dims = train.shape[1]-1\n",
    "\n",
    "#activation functions for hidden layers\n",
    "act_func = 'tanh' # could be 'relu', 'sigmoid', ...\n",
    "\n",
    "# make np.seed fixed\n",
    "np.random.seed(seed)\n",
    "\n",
    "# initialize estimator, wrap model in KerasRegressor\n",
    "estimator = KerasRegressor(\n",
    "    build_fn=model, \n",
    "    nb_epoch=100, \n",
    "    batch_size=10,\n",
    "    verbose=1\n",
    ")"
   ]
  },
  {
   "cell_type": "code",
   "execution_count": 14,
   "metadata": {
    "collapsed": false
   },
   "outputs": [
    {
     "name": "stdout",
     "output_type": "stream",
     "text": [
      "(4209, 616)\n",
      "(4209, 616)\n"
     ]
    }
   ],
   "source": [
    "# X, y preparation\n",
    "X, y = train.drop('y', axis=1).values, train.y.values\n",
    "print(X.shape)\n",
    "\n",
    "# X_test preparation\n",
    "X_test = test\n",
    "print(X_test.shape)\n",
    "\n",
    "# train/validation split\n",
    "X_tr, X_val, y_tr, y_val = train_test_split(\n",
    "    X, \n",
    "    y, \n",
    "    test_size=0.20, \n",
    "    random_state=seed\n",
    ")"
   ]
  },
  {
   "cell_type": "code",
   "execution_count": 15,
   "metadata": {
    "collapsed": true
   },
   "outputs": [],
   "source": [
    "# define path to save model\n",
    "import os\n",
    "model_path = 'keras_model_adadelta.h5'"
   ]
  },
  {
   "cell_type": "code",
   "execution_count": 16,
   "metadata": {
    "collapsed": false
   },
   "outputs": [],
   "source": [
    "# prepare callbacks\n",
    "callbacks = [\n",
    "    EarlyStopping(\n",
    "        monitor='val_loss', \n",
    "        patience=10, # was 10\n",
    "        verbose=1),\n",
    "    \n",
    "    ModelCheckpoint(\n",
    "        model_path, \n",
    "        monitor='val_loss', \n",
    "        save_best_only=True, \n",
    "        verbose=0)\n",
    "]\n",
    "\n",
    "# fit estimator\n",
    "#estimator.fit(\n",
    "#    X_tr, \n",
    "#    y_tr, \n",
    "    #nb_epoch=10, # increase it to 20-100 to get better results\n",
    "#    validation_data=(X_val, y_val),\n",
    "#    verbose=2,\n",
    "#    callbacks=callbacks,\n",
    "#    shuffle=True\n",
    "#)"
   ]
  },
  {
   "cell_type": "code",
   "execution_count": 17,
   "metadata": {
    "collapsed": false
   },
   "outputs": [
    {
     "name": "stdout",
     "output_type": "stream",
     "text": [
      "____________________________________________________________________________________________________\n",
      "Layer (type)                     Output Shape          Param #     Connected to                     \n",
      "====================================================================================================\n",
      "dense_1 (Dense)                  (None, 616)           380072      dense_input_1[0][0]              \n",
      "____________________________________________________________________________________________________\n",
      "batchnormalization_1 (BatchNorma (None, 616)           2464        dense_1[0][0]                    \n",
      "____________________________________________________________________________________________________\n",
      "activation_1 (Activation)        (None, 616)           0           batchnormalization_1[0][0]       \n",
      "____________________________________________________________________________________________________\n",
      "dropout_1 (Dropout)              (None, 616)           0           activation_1[0][0]               \n",
      "____________________________________________________________________________________________________\n",
      "dense_2 (Dense)                  (None, 616)           380072      dropout_1[0][0]                  \n",
      "____________________________________________________________________________________________________\n",
      "batchnormalization_2 (BatchNorma (None, 616)           2464        dense_2[0][0]                    \n",
      "____________________________________________________________________________________________________\n",
      "activation_2 (Activation)        (None, 616)           0           batchnormalization_2[0][0]       \n",
      "____________________________________________________________________________________________________\n",
      "dropout_2 (Dropout)              (None, 616)           0           activation_2[0][0]               \n",
      "____________________________________________________________________________________________________\n",
      "dense_3 (Dense)                  (None, 308)           190036      dropout_2[0][0]                  \n",
      "____________________________________________________________________________________________________\n",
      "batchnormalization_3 (BatchNorma (None, 308)           1232        dense_3[0][0]                    \n",
      "____________________________________________________________________________________________________\n",
      "activation_3 (Activation)        (None, 308)           0           batchnormalization_3[0][0]       \n",
      "____________________________________________________________________________________________________\n",
      "dropout_3 (Dropout)              (None, 308)           0           activation_3[0][0]               \n",
      "____________________________________________________________________________________________________\n",
      "dense_4 (Dense)                  (None, 154)           47586       dropout_3[0][0]                  \n",
      "____________________________________________________________________________________________________\n",
      "dense_5 (Dense)                  (None, 1)             155         dense_4[0][0]                    \n",
      "====================================================================================================\n",
      "Total params: 1,004,081\n",
      "Trainable params: 1,001,001\n",
      "Non-trainable params: 3,080\n",
      "____________________________________________________________________________________________________\n",
      "None\n"
     ]
    }
   ],
   "source": [
    "#reload the saved model\n",
    "estimator = model()\n",
    "estimator.compile(loss='mean_squared_error', \n",
    "              optimizer=Adadelta(),\n",
    "              metrics=[r2_keras] \n",
    "             )\n",
    "estimator.load_weights('keras_model_adadelta_0627.h5')"
   ]
  },
  {
   "cell_type": "code",
   "execution_count": 18,
   "metadata": {
    "collapsed": false
   },
   "outputs": [
    {
     "name": "stdout",
     "output_type": "stream",
     "text": [
      "MSE train: 7.80798918632\n",
      "R^2 train: 0.623668164219\n",
      "MSE val: 7.92366340175\n",
      "R^2 val: 0.596630478318\n"
     ]
    }
   ],
   "source": [
    "# check the results of saved model on train data\n",
    "if os.path.isfile(model_path):\n",
    "    estimator = load_model(model_path, custom_objects={'r2_keras': r2_keras})\n",
    "\n",
    "# check performance on train set\n",
    "print('MSE train: {}'.format(mean_squared_error(y_tr, estimator.predict(X_tr))**0.5)) # mse train\n",
    "print('R^2 train: {}'.format(r2_score(y_tr, estimator.predict(X_tr)))) # R^2 train\n",
    "\n",
    "# check performance on validation set\n",
    "print('MSE val: {}'.format(mean_squared_error(y_val, estimator.predict(X_val))**0.5)) # mse val\n",
    "print('R^2 val: {}'.format(r2_score(y_val, estimator.predict(X_val)))) # R^2 val\n",
    "pass"
   ]
  },
  {
   "cell_type": "code",
   "execution_count": 22,
   "metadata": {
    "collapsed": false
   },
   "outputs": [],
   "source": [
    "#get predictions for training data using the saved model\n",
    "y_tr_predict_keras = estimator.predict(X)\n",
    "#print y_tr_predict_keras.shape\n",
    "y_test_keras = estimator.predict(X_test.values)"
   ]
  },
  {
   "cell_type": "markdown",
   "metadata": {},
   "source": [
    "### XGBoost"
   ]
  },
  {
   "cell_type": "code",
   "execution_count": 23,
   "metadata": {
    "collapsed": true
   },
   "outputs": [],
   "source": [
    "import numpy as np # linear algebra\n",
    "import pandas as pd # data processing, CSV file I/O (e.g. pd.read_csv)\n",
    "from sklearn.preprocessing import LabelEncoder\n",
    "from sklearn.model_selection import GridSearchCV, RandomizedSearchCV\n",
    "import xgboost as xgb"
   ]
  },
  {
   "cell_type": "code",
   "execution_count": 24,
   "metadata": {
    "collapsed": false
   },
   "outputs": [
    {
     "name": "stdout",
     "output_type": "stream",
     "text": [
      "Shape train: (4209, 378)\n",
      "Shape test: (4209, 377)\n"
     ]
    }
   ],
   "source": [
    "# read datasets\n",
    "train = pd.read_csv('../input/train.csv')\n",
    "test = pd.read_csv('../input/test.csv')\n",
    "\n",
    "# process columns, apply LabelEncoder to categorical features\n",
    "for c in train.columns:\n",
    "    if train[c].dtype == 'object':\n",
    "        lbl = LabelEncoder() \n",
    "        lbl.fit(list(train[c].values) + list(test[c].values)) \n",
    "        train[c] = lbl.transform(list(train[c].values))\n",
    "        test[c] = lbl.transform(list(test[c].values))\n",
    "\n",
    "# shape        \n",
    "print('Shape train: {}\\nShape test: {}'.format(train.shape, test.shape))"
   ]
  },
  {
   "cell_type": "code",
   "execution_count": 25,
   "metadata": {
    "collapsed": true
   },
   "outputs": [],
   "source": [
    "from sklearn.decomposition import PCA, FastICA\n",
    "n_comp = 10\n",
    "\n",
    "# PCA\n",
    "pca = PCA(n_components=n_comp, random_state=42)\n",
    "pca2_results_train = pca.fit_transform(train.drop([\"y\"], axis=1))\n",
    "pca2_results_test = pca.transform(test)\n",
    "\n",
    "# ICA\n",
    "ica = FastICA(n_components=n_comp, random_state=42)\n",
    "ica2_results_train = ica.fit_transform(train.drop([\"y\"], axis=1))\n",
    "ica2_results_test = ica.transform(test)\n",
    "\n",
    "# Append decomposition components to datasets\n",
    "for i in range(1, n_comp+1):\n",
    "    train['pca_' + str(i)] = pca2_results_train[:,i-1]\n",
    "    test['pca_' + str(i)] = pca2_results_test[:, i-1]\n",
    "    \n",
    "    train['ica_' + str(i)] = ica2_results_train[:,i-1]\n",
    "    test['ica_' + str(i)] = ica2_results_test[:, i-1]\n",
    "    \n",
    "y_train = train[\"y\"]\n",
    "y_mean = np.mean(y_train)"
   ]
  },
  {
   "cell_type": "code",
   "execution_count": 26,
   "metadata": {
    "collapsed": false
   },
   "outputs": [
    {
     "name": "stdout",
     "output_type": "stream",
     "text": [
      "(4209, 397)\n"
     ]
    }
   ],
   "source": [
    "X, y = train.drop('y', axis=1).values, train.y.values\n",
    "print(X.shape)"
   ]
  },
  {
   "cell_type": "code",
   "execution_count": 27,
   "metadata": {
    "collapsed": true
   },
   "outputs": [],
   "source": [
    "from sklearn.externals import joblib\n",
    "xgb_model = joblib.load(\"xgb_650_GCV0625.joblib.dat\")"
   ]
  },
  {
   "cell_type": "code",
   "execution_count": 28,
   "metadata": {
    "collapsed": false
   },
   "outputs": [
    {
     "name": "stdout",
     "output_type": "stream",
     "text": [
      "(4209,)\n"
     ]
    }
   ],
   "source": [
    "y_tr_pred_xgb = xgb_model.predict(X)\n",
    "print y_tr_pred_xgb.shape"
   ]
  },
  {
   "cell_type": "code",
   "execution_count": 29,
   "metadata": {
    "collapsed": false
   },
   "outputs": [
    {
     "name": "stdout",
     "output_type": "stream",
     "text": [
      "MSE train: 7.69193315385\n",
      "R^2 train: 0.63188961146\n"
     ]
    }
   ],
   "source": [
    "# check performance on train set\n",
    "print('MSE train: {}'.format(mean_squared_error(y, y_tr_pred_xgb)**0.5)) # mse train\n",
    "print('R^2 train: {}'.format(r2_score(y, y_tr_pred_xgb))) # R^2 train"
   ]
  },
  {
   "cell_type": "code",
   "execution_count": 30,
   "metadata": {
    "collapsed": false
   },
   "outputs": [],
   "source": [
    "x_test = np.array(test)\n",
    "y_test_xgb = xgb_model.predict(x_test).ravel()"
   ]
  },
  {
   "cell_type": "code",
   "execution_count": 31,
   "metadata": {
    "collapsed": false
   },
   "outputs": [
    {
     "name": "stdout",
     "output_type": "stream",
     "text": [
      "(4209, 1)\n",
      "(4209,)\n",
      "(4209, 1)\n",
      "(4209,)\n"
     ]
    }
   ],
   "source": [
    "print y_tr_predict_keras.shape\n",
    "print y_tr_pred_xgb.shape\n",
    "print y_test_keras.shape\n",
    "print y_test_xgb.shape"
   ]
  },
  {
   "cell_type": "code",
   "execution_count": 32,
   "metadata": {
    "collapsed": true
   },
   "outputs": [],
   "source": [
    "stacked_columns_train = np.column_stack((y_tr_predict_keras, y_tr_pred_xgb))\n",
    "stacked_columns_test = np.column_stack((y_test_keras, y_test_xgb))\n",
    "avg_train = np.mean(stacked_columns_train, axis = 1)\n",
    "avg_test = np.mean(stacked_columns_test, axis = 1)"
   ]
  },
  {
   "cell_type": "code",
   "execution_count": 33,
   "metadata": {
    "collapsed": false
   },
   "outputs": [
    {
     "name": "stdout",
     "output_type": "stream",
     "text": [
      "MSE train: 7.69528071934\n",
      "R^2 train: 0.631569134993\n"
     ]
    }
   ],
   "source": [
    "# check performance on train set\n",
    "print('MSE train: {}'.format(mean_squared_error(y, avg_train)**0.5)) # mse train\n",
    "print('R^2 train: {}'.format(r2_score(y, avg_train))) # R^2 train"
   ]
  },
  {
   "cell_type": "code",
   "execution_count": 34,
   "metadata": {
    "collapsed": true
   },
   "outputs": [],
   "source": [
    "output = pd.DataFrame({'id': test['ID'].astype(np.int32), 'y': avg_test})\n",
    "#output.to_csv('../results/init_avg_results_0628.csv', index=False)"
   ]
  },
  {
   "cell_type": "code",
   "execution_count": 35,
   "metadata": {
    "collapsed": false
   },
   "outputs": [],
   "source": [
    "#from sklearn.svm import SVR\n",
    "from sklearn.linear_model import Lasso\n",
    "from sklearn.model_selection import GridSearchCV"
   ]
  },
  {
   "cell_type": "code",
   "execution_count": 36,
   "metadata": {
    "collapsed": false
   },
   "outputs": [],
   "source": [
    "stacked_columns_train = np.column_stack((y_tr_predict_keras, y_tr_pred_xgb))\n",
    "stacked_columns_test = np.column_stack((y_test_keras, y_test_xgb))"
   ]
  },
  {
   "cell_type": "code",
   "execution_count": 66,
   "metadata": {
    "collapsed": false
   },
   "outputs": [
    {
     "name": "stdout",
     "output_type": "stream",
     "text": [
      "Fitting 5 folds for each of 432 candidates, totalling 2160 fits\n"
     ]
    },
    {
     "name": "stderr",
     "output_type": "stream",
     "text": [
      "[Parallel(n_jobs=5)]: Done 758 tasks      | elapsed:    1.4s\n",
      "[Parallel(n_jobs=5)]: Done 2160 out of 2160 | elapsed:    3.3s finished\n"
     ]
    },
    {
     "data": {
      "text/plain": [
       "GridSearchCV(cv=5, error_score='raise',\n",
       "       estimator=Lasso(alpha=1.0, copy_X=True, fit_intercept=True, max_iter=6000,\n",
       "   normalize=False, positive=False, precompute=False, random_state=None,\n",
       "   selection='cyclic', tol=0.0001, warm_start=False),\n",
       "       fit_params={}, iid=True, n_jobs=5,\n",
       "       param_grid={'normalize': [True, False], 'selection': ['random', 'cyclic'], 'fit_intercept': [True, False], 'max_iter': [5000, 6000, 7000], 'precompute': [True, False], 'tol': [0.004, 0.0045, 0.005], 'alpha': [1.55, 1.57, 1.6]},\n",
       "       pre_dispatch='2*n_jobs', refit=True, return_train_score=True,\n",
       "       scoring=None, verbose=1)"
      ]
     },
     "execution_count": 66,
     "metadata": {},
     "output_type": "execute_result"
    }
   ],
   "source": [
    "lasso_reg = Lasso(max_iter=6000)\n",
    "\n",
    "lasso_params = {\n",
    "    'max_iter': [5000, 6000, 7000],\n",
    "    'alpha': [1.55, 1.57, 1.6],\n",
    "    'fit_intercept': [True,False],\n",
    "    'normalize': [True, False],\n",
    "    'precompute': [True, False],\n",
    "    'tol': [0.004, 0.0045, 0.005],\n",
    "    'selection': ['random', 'cyclic']\n",
    "}\n",
    "\n",
    "lasso_reg_cv = GridSearchCV(lasso_reg, lasso_params, cv = 5, verbose=1, n_jobs = 5)\n",
    "lasso_reg_cv.fit(stacked_columns_train, y)"
   ]
  },
  {
   "cell_type": "code",
   "execution_count": 67,
   "metadata": {
    "collapsed": false
   },
   "outputs": [
    {
     "name": "stdout",
     "output_type": "stream",
     "text": [
      "0.644424282788\n",
      "{'normalize': False, 'selection': 'random', 'fit_intercept': True, 'max_iter': 6000, 'precompute': False, 'tol': 0.004, 'alpha': 1.55}\n",
      "-0.008255 (0.011708) with: {'normalize': True, 'selection': 'random', 'fit_intercept': True, 'max_iter': 5000, 'precompute': True, 'tol': 0.004, 'alpha': 1.55}\n",
      "-0.008255 (0.011708) with: {'normalize': True, 'selection': 'random', 'fit_intercept': True, 'max_iter': 5000, 'precompute': True, 'tol': 0.0045, 'alpha': 1.55}\n",
      "-0.008255 (0.011708) with: {'normalize': True, 'selection': 'random', 'fit_intercept': True, 'max_iter': 5000, 'precompute': True, 'tol': 0.005, 'alpha': 1.55}\n",
      "-0.008255 (0.011708) with: {'normalize': True, 'selection': 'cyclic', 'fit_intercept': True, 'max_iter': 5000, 'precompute': True, 'tol': 0.004, 'alpha': 1.55}\n",
      "-0.008255 (0.011708) with: {'normalize': True, 'selection': 'cyclic', 'fit_intercept': True, 'max_iter': 5000, 'precompute': True, 'tol': 0.0045, 'alpha': 1.55}\n",
      "-0.008255 (0.011708) with: {'normalize': True, 'selection': 'cyclic', 'fit_intercept': True, 'max_iter': 5000, 'precompute': True, 'tol': 0.005, 'alpha': 1.55}\n",
      "-0.008255 (0.011708) with: {'normalize': True, 'selection': 'random', 'fit_intercept': True, 'max_iter': 5000, 'precompute': False, 'tol': 0.004, 'alpha': 1.55}\n",
      "-0.008255 (0.011708) with: {'normalize': True, 'selection': 'random', 'fit_intercept': True, 'max_iter': 5000, 'precompute': False, 'tol': 0.0045, 'alpha': 1.55}\n",
      "-0.008255 (0.011708) with: {'normalize': True, 'selection': 'random', 'fit_intercept': True, 'max_iter': 5000, 'precompute': False, 'tol': 0.005, 'alpha': 1.55}\n",
      "-0.008255 (0.011708) with: {'normalize': True, 'selection': 'cyclic', 'fit_intercept': True, 'max_iter': 5000, 'precompute': False, 'tol': 0.004, 'alpha': 1.55}\n",
      "-0.008255 (0.011708) with: {'normalize': True, 'selection': 'cyclic', 'fit_intercept': True, 'max_iter': 5000, 'precompute': False, 'tol': 0.0045, 'alpha': 1.55}\n",
      "-0.008255 (0.011708) with: {'normalize': True, 'selection': 'cyclic', 'fit_intercept': True, 'max_iter': 5000, 'precompute': False, 'tol': 0.005, 'alpha': 1.55}\n",
      "0.638284 (0.059556) with: {'normalize': False, 'selection': 'random', 'fit_intercept': True, 'max_iter': 5000, 'precompute': True, 'tol': 0.004, 'alpha': 1.55}\n",
      "0.638881 (0.060968) with: {'normalize': False, 'selection': 'random', 'fit_intercept': True, 'max_iter': 5000, 'precompute': True, 'tol': 0.0045, 'alpha': 1.55}\n",
      "0.641135 (0.060914) with: {'normalize': False, 'selection': 'random', 'fit_intercept': True, 'max_iter': 5000, 'precompute': True, 'tol': 0.005, 'alpha': 1.55}\n",
      "0.640966 (0.058348) with: {'normalize': False, 'selection': 'cyclic', 'fit_intercept': True, 'max_iter': 5000, 'precompute': True, 'tol': 0.004, 'alpha': 1.55}\n",
      "0.640967 (0.058378) with: {'normalize': False, 'selection': 'cyclic', 'fit_intercept': True, 'max_iter': 5000, 'precompute': True, 'tol': 0.0045, 'alpha': 1.55}\n",
      "0.640927 (0.058458) with: {'normalize': False, 'selection': 'cyclic', 'fit_intercept': True, 'max_iter': 5000, 'precompute': True, 'tol': 0.005, 'alpha': 1.55}\n",
      "0.637119 (0.059132) with: {'normalize': False, 'selection': 'random', 'fit_intercept': True, 'max_iter': 5000, 'precompute': False, 'tol': 0.004, 'alpha': 1.55}\n",
      "0.640994 (0.057068) with: {'normalize': False, 'selection': 'random', 'fit_intercept': True, 'max_iter': 5000, 'precompute': False, 'tol': 0.0045, 'alpha': 1.55}\n",
      "0.642913 (0.056142) with: {'normalize': False, 'selection': 'random', 'fit_intercept': True, 'max_iter': 5000, 'precompute': False, 'tol': 0.005, 'alpha': 1.55}\n",
      "0.640966 (0.058348) with: {'normalize': False, 'selection': 'cyclic', 'fit_intercept': True, 'max_iter': 5000, 'precompute': False, 'tol': 0.004, 'alpha': 1.55}\n",
      "0.640967 (0.058378) with: {'normalize': False, 'selection': 'cyclic', 'fit_intercept': True, 'max_iter': 5000, 'precompute': False, 'tol': 0.0045, 'alpha': 1.55}\n",
      "0.640927 (0.058458) with: {'normalize': False, 'selection': 'cyclic', 'fit_intercept': True, 'max_iter': 5000, 'precompute': False, 'tol': 0.005, 'alpha': 1.55}\n",
      "-0.008255 (0.011708) with: {'normalize': True, 'selection': 'random', 'fit_intercept': True, 'max_iter': 6000, 'precompute': True, 'tol': 0.004, 'alpha': 1.55}\n",
      "-0.008255 (0.011708) with: {'normalize': True, 'selection': 'random', 'fit_intercept': True, 'max_iter': 6000, 'precompute': True, 'tol': 0.0045, 'alpha': 1.55}\n",
      "-0.008255 (0.011708) with: {'normalize': True, 'selection': 'random', 'fit_intercept': True, 'max_iter': 6000, 'precompute': True, 'tol': 0.005, 'alpha': 1.55}\n",
      "-0.008255 (0.011708) with: {'normalize': True, 'selection': 'cyclic', 'fit_intercept': True, 'max_iter': 6000, 'precompute': True, 'tol': 0.004, 'alpha': 1.55}\n",
      "-0.008255 (0.011708) with: {'normalize': True, 'selection': 'cyclic', 'fit_intercept': True, 'max_iter': 6000, 'precompute': True, 'tol': 0.0045, 'alpha': 1.55}\n",
      "-0.008255 (0.011708) with: {'normalize': True, 'selection': 'cyclic', 'fit_intercept': True, 'max_iter': 6000, 'precompute': True, 'tol': 0.005, 'alpha': 1.55}\n",
      "-0.008255 (0.011708) with: {'normalize': True, 'selection': 'random', 'fit_intercept': True, 'max_iter': 6000, 'precompute': False, 'tol': 0.004, 'alpha': 1.55}\n",
      "-0.008255 (0.011708) with: {'normalize': True, 'selection': 'random', 'fit_intercept': True, 'max_iter': 6000, 'precompute': False, 'tol': 0.0045, 'alpha': 1.55}\n",
      "-0.008255 (0.011708) with: {'normalize': True, 'selection': 'random', 'fit_intercept': True, 'max_iter': 6000, 'precompute': False, 'tol': 0.005, 'alpha': 1.55}\n",
      "-0.008255 (0.011708) with: {'normalize': True, 'selection': 'cyclic', 'fit_intercept': True, 'max_iter': 6000, 'precompute': False, 'tol': 0.004, 'alpha': 1.55}\n",
      "-0.008255 (0.011708) with: {'normalize': True, 'selection': 'cyclic', 'fit_intercept': True, 'max_iter': 6000, 'precompute': False, 'tol': 0.0045, 'alpha': 1.55}\n",
      "-0.008255 (0.011708) with: {'normalize': True, 'selection': 'cyclic', 'fit_intercept': True, 'max_iter': 6000, 'precompute': False, 'tol': 0.005, 'alpha': 1.55}\n",
      "0.642150 (0.054680) with: {'normalize': False, 'selection': 'random', 'fit_intercept': True, 'max_iter': 6000, 'precompute': True, 'tol': 0.004, 'alpha': 1.55}\n",
      "0.641327 (0.056988) with: {'normalize': False, 'selection': 'random', 'fit_intercept': True, 'max_iter': 6000, 'precompute': True, 'tol': 0.0045, 'alpha': 1.55}\n",
      "0.637846 (0.061578) with: {'normalize': False, 'selection': 'random', 'fit_intercept': True, 'max_iter': 6000, 'precompute': True, 'tol': 0.005, 'alpha': 1.55}\n",
      "0.640966 (0.058348) with: {'normalize': False, 'selection': 'cyclic', 'fit_intercept': True, 'max_iter': 6000, 'precompute': True, 'tol': 0.004, 'alpha': 1.55}\n",
      "0.640967 (0.058378) with: {'normalize': False, 'selection': 'cyclic', 'fit_intercept': True, 'max_iter': 6000, 'precompute': True, 'tol': 0.0045, 'alpha': 1.55}\n",
      "0.640927 (0.058458) with: {'normalize': False, 'selection': 'cyclic', 'fit_intercept': True, 'max_iter': 6000, 'precompute': True, 'tol': 0.005, 'alpha': 1.55}\n",
      "0.644424 (0.056358) with: {'normalize': False, 'selection': 'random', 'fit_intercept': True, 'max_iter': 6000, 'precompute': False, 'tol': 0.004, 'alpha': 1.55}\n",
      "0.638572 (0.061190) with: {'normalize': False, 'selection': 'random', 'fit_intercept': True, 'max_iter': 6000, 'precompute': False, 'tol': 0.0045, 'alpha': 1.55}\n",
      "0.644137 (0.055519) with: {'normalize': False, 'selection': 'random', 'fit_intercept': True, 'max_iter': 6000, 'precompute': False, 'tol': 0.005, 'alpha': 1.55}\n",
      "0.640966 (0.058348) with: {'normalize': False, 'selection': 'cyclic', 'fit_intercept': True, 'max_iter': 6000, 'precompute': False, 'tol': 0.004, 'alpha': 1.55}\n",
      "0.640967 (0.058378) with: {'normalize': False, 'selection': 'cyclic', 'fit_intercept': True, 'max_iter': 6000, 'precompute': False, 'tol': 0.0045, 'alpha': 1.55}\n",
      "0.640927 (0.058458) with: {'normalize': False, 'selection': 'cyclic', 'fit_intercept': True, 'max_iter': 6000, 'precompute': False, 'tol': 0.005, 'alpha': 1.55}\n",
      "-0.008255 (0.011708) with: {'normalize': True, 'selection': 'random', 'fit_intercept': True, 'max_iter': 7000, 'precompute': True, 'tol': 0.004, 'alpha': 1.55}\n",
      "-0.008255 (0.011708) with: {'normalize': True, 'selection': 'random', 'fit_intercept': True, 'max_iter': 7000, 'precompute': True, 'tol': 0.0045, 'alpha': 1.55}\n",
      "-0.008255 (0.011708) with: {'normalize': True, 'selection': 'random', 'fit_intercept': True, 'max_iter': 7000, 'precompute': True, 'tol': 0.005, 'alpha': 1.55}\n",
      "-0.008255 (0.011708) with: {'normalize': True, 'selection': 'cyclic', 'fit_intercept': True, 'max_iter': 7000, 'precompute': True, 'tol': 0.004, 'alpha': 1.55}\n",
      "-0.008255 (0.011708) with: {'normalize': True, 'selection': 'cyclic', 'fit_intercept': True, 'max_iter': 7000, 'precompute': True, 'tol': 0.0045, 'alpha': 1.55}\n",
      "-0.008255 (0.011708) with: {'normalize': True, 'selection': 'cyclic', 'fit_intercept': True, 'max_iter': 7000, 'precompute': True, 'tol': 0.005, 'alpha': 1.55}\n",
      "-0.008255 (0.011708) with: {'normalize': True, 'selection': 'random', 'fit_intercept': True, 'max_iter': 7000, 'precompute': False, 'tol': 0.004, 'alpha': 1.55}\n",
      "-0.008255 (0.011708) with: {'normalize': True, 'selection': 'random', 'fit_intercept': True, 'max_iter': 7000, 'precompute': False, 'tol': 0.0045, 'alpha': 1.55}\n",
      "-0.008255 (0.011708) with: {'normalize': True, 'selection': 'random', 'fit_intercept': True, 'max_iter': 7000, 'precompute': False, 'tol': 0.005, 'alpha': 1.55}\n",
      "-0.008255 (0.011708) with: {'normalize': True, 'selection': 'cyclic', 'fit_intercept': True, 'max_iter': 7000, 'precompute': False, 'tol': 0.004, 'alpha': 1.55}\n",
      "-0.008255 (0.011708) with: {'normalize': True, 'selection': 'cyclic', 'fit_intercept': True, 'max_iter': 7000, 'precompute': False, 'tol': 0.0045, 'alpha': 1.55}\n",
      "-0.008255 (0.011708) with: {'normalize': True, 'selection': 'cyclic', 'fit_intercept': True, 'max_iter': 7000, 'precompute': False, 'tol': 0.005, 'alpha': 1.55}\n",
      "0.639978 (0.058918) with: {'normalize': False, 'selection': 'random', 'fit_intercept': True, 'max_iter': 7000, 'precompute': True, 'tol': 0.004, 'alpha': 1.55}\n",
      "0.642735 (0.056439) with: {'normalize': False, 'selection': 'random', 'fit_intercept': True, 'max_iter': 7000, 'precompute': True, 'tol': 0.0045, 'alpha': 1.55}\n",
      "0.642750 (0.054988) with: {'normalize': False, 'selection': 'random', 'fit_intercept': True, 'max_iter': 7000, 'precompute': True, 'tol': 0.005, 'alpha': 1.55}\n",
      "0.640966 (0.058348) with: {'normalize': False, 'selection': 'cyclic', 'fit_intercept': True, 'max_iter': 7000, 'precompute': True, 'tol': 0.004, 'alpha': 1.55}\n",
      "0.640967 (0.058378) with: {'normalize': False, 'selection': 'cyclic', 'fit_intercept': True, 'max_iter': 7000, 'precompute': True, 'tol': 0.0045, 'alpha': 1.55}\n",
      "0.640927 (0.058458) with: {'normalize': False, 'selection': 'cyclic', 'fit_intercept': True, 'max_iter': 7000, 'precompute': True, 'tol': 0.005, 'alpha': 1.55}\n",
      "0.638850 (0.059179) with: {'normalize': False, 'selection': 'random', 'fit_intercept': True, 'max_iter': 7000, 'precompute': False, 'tol': 0.004, 'alpha': 1.55}\n",
      "0.639544 (0.060731) with: {'normalize': False, 'selection': 'random', 'fit_intercept': True, 'max_iter': 7000, 'precompute': False, 'tol': 0.0045, 'alpha': 1.55}\n",
      "0.641182 (0.056308) with: {'normalize': False, 'selection': 'random', 'fit_intercept': True, 'max_iter': 7000, 'precompute': False, 'tol': 0.005, 'alpha': 1.55}\n",
      "0.640966 (0.058348) with: {'normalize': False, 'selection': 'cyclic', 'fit_intercept': True, 'max_iter': 7000, 'precompute': False, 'tol': 0.004, 'alpha': 1.55}\n",
      "0.640967 (0.058378) with: {'normalize': False, 'selection': 'cyclic', 'fit_intercept': True, 'max_iter': 7000, 'precompute': False, 'tol': 0.0045, 'alpha': 1.55}\n",
      "0.640927 (0.058458) with: {'normalize': False, 'selection': 'cyclic', 'fit_intercept': True, 'max_iter': 7000, 'precompute': False, 'tol': 0.005, 'alpha': 1.55}\n",
      "0.626265 (0.060872) with: {'normalize': True, 'selection': 'random', 'fit_intercept': False, 'max_iter': 5000, 'precompute': True, 'tol': 0.004, 'alpha': 1.55}\n",
      "0.627682 (0.062013) with: {'normalize': True, 'selection': 'random', 'fit_intercept': False, 'max_iter': 5000, 'precompute': True, 'tol': 0.0045, 'alpha': 1.55}\n",
      "0.621140 (0.062111) with: {'normalize': True, 'selection': 'random', 'fit_intercept': False, 'max_iter': 5000, 'precompute': True, 'tol': 0.005, 'alpha': 1.55}\n",
      "0.624635 (0.062710) with: {'normalize': True, 'selection': 'cyclic', 'fit_intercept': False, 'max_iter': 5000, 'precompute': True, 'tol': 0.004, 'alpha': 1.55}\n",
      "0.624635 (0.062710) with: {'normalize': True, 'selection': 'cyclic', 'fit_intercept': False, 'max_iter': 5000, 'precompute': True, 'tol': 0.0045, 'alpha': 1.55}\n",
      "0.624635 (0.062710) with: {'normalize': True, 'selection': 'cyclic', 'fit_intercept': False, 'max_iter': 5000, 'precompute': True, 'tol': 0.005, 'alpha': 1.55}\n",
      "0.629692 (0.067870) with: {'normalize': True, 'selection': 'random', 'fit_intercept': False, 'max_iter': 5000, 'precompute': False, 'tol': 0.004, 'alpha': 1.55}\n",
      "0.628122 (0.066819) with: {'normalize': True, 'selection': 'random', 'fit_intercept': False, 'max_iter': 5000, 'precompute': False, 'tol': 0.0045, 'alpha': 1.55}\n",
      "0.624630 (0.062707) with: {'normalize': True, 'selection': 'random', 'fit_intercept': False, 'max_iter': 5000, 'precompute': False, 'tol': 0.005, 'alpha': 1.55}\n",
      "0.624635 (0.062710) with: {'normalize': True, 'selection': 'cyclic', 'fit_intercept': False, 'max_iter': 5000, 'precompute': False, 'tol': 0.004, 'alpha': 1.55}\n",
      "0.624635 (0.062710) with: {'normalize': True, 'selection': 'cyclic', 'fit_intercept': False, 'max_iter': 5000, 'precompute': False, 'tol': 0.0045, 'alpha': 1.55}\n",
      "0.624635 (0.062710) with: {'normalize': True, 'selection': 'cyclic', 'fit_intercept': False, 'max_iter': 5000, 'precompute': False, 'tol': 0.005, 'alpha': 1.55}\n",
      "0.621023 (0.061985) with: {'normalize': False, 'selection': 'random', 'fit_intercept': False, 'max_iter': 5000, 'precompute': True, 'tol': 0.004, 'alpha': 1.55}\n",
      "0.628118 (0.066770) with: {'normalize': False, 'selection': 'random', 'fit_intercept': False, 'max_iter': 5000, 'precompute': True, 'tol': 0.0045, 'alpha': 1.55}\n",
      "0.627364 (0.052200) with: {'normalize': False, 'selection': 'random', 'fit_intercept': False, 'max_iter': 5000, 'precompute': True, 'tol': 0.005, 'alpha': 1.55}\n",
      "0.624635 (0.062710) with: {'normalize': False, 'selection': 'cyclic', 'fit_intercept': False, 'max_iter': 5000, 'precompute': True, 'tol': 0.004, 'alpha': 1.55}\n",
      "0.624635 (0.062710) with: {'normalize': False, 'selection': 'cyclic', 'fit_intercept': False, 'max_iter': 5000, 'precompute': True, 'tol': 0.0045, 'alpha': 1.55}\n",
      "0.624635 (0.062710) with: {'normalize': False, 'selection': 'cyclic', 'fit_intercept': False, 'max_iter': 5000, 'precompute': True, 'tol': 0.005, 'alpha': 1.55}\n",
      "0.641018 (0.055389) with: {'normalize': False, 'selection': 'random', 'fit_intercept': False, 'max_iter': 5000, 'precompute': False, 'tol': 0.004, 'alpha': 1.55}\n",
      "0.626094 (0.064038) with: {'normalize': False, 'selection': 'random', 'fit_intercept': False, 'max_iter': 5000, 'precompute': False, 'tol': 0.0045, 'alpha': 1.55}\n",
      "0.621088 (0.062193) with: {'normalize': False, 'selection': 'random', 'fit_intercept': False, 'max_iter': 5000, 'precompute': False, 'tol': 0.005, 'alpha': 1.55}\n",
      "0.624635 (0.062710) with: {'normalize': False, 'selection': 'cyclic', 'fit_intercept': False, 'max_iter': 5000, 'precompute': False, 'tol': 0.004, 'alpha': 1.55}\n",
      "0.624635 (0.062710) with: {'normalize': False, 'selection': 'cyclic', 'fit_intercept': False, 'max_iter': 5000, 'precompute': False, 'tol': 0.0045, 'alpha': 1.55}\n",
      "0.624635 (0.062710) with: {'normalize': False, 'selection': 'cyclic', 'fit_intercept': False, 'max_iter': 5000, 'precompute': False, 'tol': 0.005, 'alpha': 1.55}\n",
      "0.629858 (0.061298) with: {'normalize': True, 'selection': 'random', 'fit_intercept': False, 'max_iter': 6000, 'precompute': True, 'tol': 0.004, 'alpha': 1.55}\n",
      "0.624589 (0.062713) with: {'normalize': True, 'selection': 'random', 'fit_intercept': False, 'max_iter': 6000, 'precompute': True, 'tol': 0.0045, 'alpha': 1.55}\n",
      "0.631233 (0.065981) with: {'normalize': True, 'selection': 'random', 'fit_intercept': False, 'max_iter': 6000, 'precompute': True, 'tol': 0.005, 'alpha': 1.55}\n",
      "0.624635 (0.062710) with: {'normalize': True, 'selection': 'cyclic', 'fit_intercept': False, 'max_iter': 6000, 'precompute': True, 'tol': 0.004, 'alpha': 1.55}\n",
      "0.624635 (0.062710) with: {'normalize': True, 'selection': 'cyclic', 'fit_intercept': False, 'max_iter': 6000, 'precompute': True, 'tol': 0.0045, 'alpha': 1.55}\n",
      "0.624635 (0.062710) with: {'normalize': True, 'selection': 'cyclic', 'fit_intercept': False, 'max_iter': 6000, 'precompute': True, 'tol': 0.005, 'alpha': 1.55}\n",
      "0.624557 (0.066274) with: {'normalize': True, 'selection': 'random', 'fit_intercept': False, 'max_iter': 6000, 'precompute': False, 'tol': 0.004, 'alpha': 1.55}\n",
      "0.632317 (0.058001) with: {'normalize': True, 'selection': 'random', 'fit_intercept': False, 'max_iter': 6000, 'precompute': False, 'tol': 0.0045, 'alpha': 1.55}\n",
      "0.632451 (0.053958) with: {'normalize': True, 'selection': 'random', 'fit_intercept': False, 'max_iter': 6000, 'precompute': False, 'tol': 0.005, 'alpha': 1.55}\n",
      "0.624635 (0.062710) with: {'normalize': True, 'selection': 'cyclic', 'fit_intercept': False, 'max_iter': 6000, 'precompute': False, 'tol': 0.004, 'alpha': 1.55}\n",
      "0.624635 (0.062710) with: {'normalize': True, 'selection': 'cyclic', 'fit_intercept': False, 'max_iter': 6000, 'precompute': False, 'tol': 0.0045, 'alpha': 1.55}\n",
      "0.624635 (0.062710) with: {'normalize': True, 'selection': 'cyclic', 'fit_intercept': False, 'max_iter': 6000, 'precompute': False, 'tol': 0.005, 'alpha': 1.55}\n",
      "0.626094 (0.064038) with: {'normalize': False, 'selection': 'random', 'fit_intercept': False, 'max_iter': 6000, 'precompute': True, 'tol': 0.004, 'alpha': 1.55}\n",
      "0.621088 (0.062193) with: {'normalize': False, 'selection': 'random', 'fit_intercept': False, 'max_iter': 6000, 'precompute': True, 'tol': 0.0045, 'alpha': 1.55}\n",
      "0.628182 (0.066797) with: {'normalize': False, 'selection': 'random', 'fit_intercept': False, 'max_iter': 6000, 'precompute': True, 'tol': 0.005, 'alpha': 1.55}\n",
      "0.624635 (0.062710) with: {'normalize': False, 'selection': 'cyclic', 'fit_intercept': False, 'max_iter': 6000, 'precompute': True, 'tol': 0.004, 'alpha': 1.55}\n",
      "0.624635 (0.062710) with: {'normalize': False, 'selection': 'cyclic', 'fit_intercept': False, 'max_iter': 6000, 'precompute': True, 'tol': 0.0045, 'alpha': 1.55}\n",
      "0.624635 (0.062710) with: {'normalize': False, 'selection': 'cyclic', 'fit_intercept': False, 'max_iter': 6000, 'precompute': True, 'tol': 0.005, 'alpha': 1.55}\n",
      "0.626071 (0.067533) with: {'normalize': False, 'selection': 'random', 'fit_intercept': False, 'max_iter': 6000, 'precompute': False, 'tol': 0.004, 'alpha': 1.55}\n",
      "0.629669 (0.064921) with: {'normalize': False, 'selection': 'random', 'fit_intercept': False, 'max_iter': 6000, 'precompute': False, 'tol': 0.0045, 'alpha': 1.55}\n",
      "0.632466 (0.050061) with: {'normalize': False, 'selection': 'random', 'fit_intercept': False, 'max_iter': 6000, 'precompute': False, 'tol': 0.005, 'alpha': 1.55}\n",
      "0.624635 (0.062710) with: {'normalize': False, 'selection': 'cyclic', 'fit_intercept': False, 'max_iter': 6000, 'precompute': False, 'tol': 0.004, 'alpha': 1.55}\n",
      "0.624635 (0.062710) with: {'normalize': False, 'selection': 'cyclic', 'fit_intercept': False, 'max_iter': 6000, 'precompute': False, 'tol': 0.0045, 'alpha': 1.55}\n",
      "0.624635 (0.062710) with: {'normalize': False, 'selection': 'cyclic', 'fit_intercept': False, 'max_iter': 6000, 'precompute': False, 'tol': 0.005, 'alpha': 1.55}\n",
      "0.626090 (0.067568) with: {'normalize': True, 'selection': 'random', 'fit_intercept': False, 'max_iter': 7000, 'precompute': True, 'tol': 0.004, 'alpha': 1.55}\n",
      "0.622653 (0.063533) with: {'normalize': True, 'selection': 'random', 'fit_intercept': False, 'max_iter': 7000, 'precompute': True, 'tol': 0.0045, 'alpha': 1.55}\n",
      "0.637577 (0.051406) with: {'normalize': True, 'selection': 'random', 'fit_intercept': False, 'max_iter': 7000, 'precompute': True, 'tol': 0.005, 'alpha': 1.55}\n",
      "0.624635 (0.062710) with: {'normalize': True, 'selection': 'cyclic', 'fit_intercept': False, 'max_iter': 7000, 'precompute': True, 'tol': 0.004, 'alpha': 1.55}\n",
      "0.624635 (0.062710) with: {'normalize': True, 'selection': 'cyclic', 'fit_intercept': False, 'max_iter': 7000, 'precompute': True, 'tol': 0.0045, 'alpha': 1.55}\n",
      "0.624635 (0.062710) with: {'normalize': True, 'selection': 'cyclic', 'fit_intercept': False, 'max_iter': 7000, 'precompute': True, 'tol': 0.005, 'alpha': 1.55}\n",
      "0.634822 (0.066098) with: {'normalize': True, 'selection': 'random', 'fit_intercept': False, 'max_iter': 7000, 'precompute': False, 'tol': 0.004, 'alpha': 1.55}\n",
      "0.635930 (0.050048) with: {'normalize': True, 'selection': 'random', 'fit_intercept': False, 'max_iter': 7000, 'precompute': False, 'tol': 0.0045, 'alpha': 1.55}\n",
      "0.634765 (0.066130) with: {'normalize': True, 'selection': 'random', 'fit_intercept': False, 'max_iter': 7000, 'precompute': False, 'tol': 0.005, 'alpha': 1.55}\n",
      "0.624635 (0.062710) with: {'normalize': True, 'selection': 'cyclic', 'fit_intercept': False, 'max_iter': 7000, 'precompute': False, 'tol': 0.004, 'alpha': 1.55}\n",
      "0.624635 (0.062710) with: {'normalize': True, 'selection': 'cyclic', 'fit_intercept': False, 'max_iter': 7000, 'precompute': False, 'tol': 0.0045, 'alpha': 1.55}\n",
      "0.624635 (0.062710) with: {'normalize': True, 'selection': 'cyclic', 'fit_intercept': False, 'max_iter': 7000, 'precompute': False, 'tol': 0.005, 'alpha': 1.55}\n",
      "0.629669 (0.064921) with: {'normalize': False, 'selection': 'random', 'fit_intercept': False, 'max_iter': 7000, 'precompute': True, 'tol': 0.004, 'alpha': 1.55}\n",
      "0.634378 (0.056907) with: {'normalize': False, 'selection': 'random', 'fit_intercept': False, 'max_iter': 7000, 'precompute': True, 'tol': 0.0045, 'alpha': 1.55}\n",
      "0.626148 (0.060746) with: {'normalize': False, 'selection': 'random', 'fit_intercept': False, 'max_iter': 7000, 'precompute': True, 'tol': 0.005, 'alpha': 1.55}\n",
      "0.624635 (0.062710) with: {'normalize': False, 'selection': 'cyclic', 'fit_intercept': False, 'max_iter': 7000, 'precompute': True, 'tol': 0.004, 'alpha': 1.55}\n",
      "0.624635 (0.062710) with: {'normalize': False, 'selection': 'cyclic', 'fit_intercept': False, 'max_iter': 7000, 'precompute': True, 'tol': 0.0045, 'alpha': 1.55}\n",
      "0.624635 (0.062710) with: {'normalize': False, 'selection': 'cyclic', 'fit_intercept': False, 'max_iter': 7000, 'precompute': True, 'tol': 0.005, 'alpha': 1.55}\n",
      "0.633245 (0.065133) with: {'normalize': False, 'selection': 'random', 'fit_intercept': False, 'max_iter': 7000, 'precompute': False, 'tol': 0.004, 'alpha': 1.55}\n",
      "0.635885 (0.054447) with: {'normalize': False, 'selection': 'random', 'fit_intercept': False, 'max_iter': 7000, 'precompute': False, 'tol': 0.0045, 'alpha': 1.55}\n",
      "0.622651 (0.063534) with: {'normalize': False, 'selection': 'random', 'fit_intercept': False, 'max_iter': 7000, 'precompute': False, 'tol': 0.005, 'alpha': 1.55}\n",
      "0.624635 (0.062710) with: {'normalize': False, 'selection': 'cyclic', 'fit_intercept': False, 'max_iter': 7000, 'precompute': False, 'tol': 0.004, 'alpha': 1.55}\n",
      "0.624635 (0.062710) with: {'normalize': False, 'selection': 'cyclic', 'fit_intercept': False, 'max_iter': 7000, 'precompute': False, 'tol': 0.0045, 'alpha': 1.55}\n",
      "0.624635 (0.062710) with: {'normalize': False, 'selection': 'cyclic', 'fit_intercept': False, 'max_iter': 7000, 'precompute': False, 'tol': 0.005, 'alpha': 1.55}\n",
      "-0.008255 (0.011708) with: {'normalize': True, 'selection': 'random', 'fit_intercept': True, 'max_iter': 5000, 'precompute': True, 'tol': 0.004, 'alpha': 1.57}\n",
      "-0.008255 (0.011708) with: {'normalize': True, 'selection': 'random', 'fit_intercept': True, 'max_iter': 5000, 'precompute': True, 'tol': 0.0045, 'alpha': 1.57}\n",
      "-0.008255 (0.011708) with: {'normalize': True, 'selection': 'random', 'fit_intercept': True, 'max_iter': 5000, 'precompute': True, 'tol': 0.005, 'alpha': 1.57}\n",
      "-0.008255 (0.011708) with: {'normalize': True, 'selection': 'cyclic', 'fit_intercept': True, 'max_iter': 5000, 'precompute': True, 'tol': 0.004, 'alpha': 1.57}\n",
      "-0.008255 (0.011708) with: {'normalize': True, 'selection': 'cyclic', 'fit_intercept': True, 'max_iter': 5000, 'precompute': True, 'tol': 0.0045, 'alpha': 1.57}\n",
      "-0.008255 (0.011708) with: {'normalize': True, 'selection': 'cyclic', 'fit_intercept': True, 'max_iter': 5000, 'precompute': True, 'tol': 0.005, 'alpha': 1.57}\n",
      "-0.008255 (0.011708) with: {'normalize': True, 'selection': 'random', 'fit_intercept': True, 'max_iter': 5000, 'precompute': False, 'tol': 0.004, 'alpha': 1.57}\n",
      "-0.008255 (0.011708) with: {'normalize': True, 'selection': 'random', 'fit_intercept': True, 'max_iter': 5000, 'precompute': False, 'tol': 0.0045, 'alpha': 1.57}\n",
      "-0.008255 (0.011708) with: {'normalize': True, 'selection': 'random', 'fit_intercept': True, 'max_iter': 5000, 'precompute': False, 'tol': 0.005, 'alpha': 1.57}\n",
      "-0.008255 (0.011708) with: {'normalize': True, 'selection': 'cyclic', 'fit_intercept': True, 'max_iter': 5000, 'precompute': False, 'tol': 0.004, 'alpha': 1.57}\n",
      "-0.008255 (0.011708) with: {'normalize': True, 'selection': 'cyclic', 'fit_intercept': True, 'max_iter': 5000, 'precompute': False, 'tol': 0.0045, 'alpha': 1.57}\n",
      "-0.008255 (0.011708) with: {'normalize': True, 'selection': 'cyclic', 'fit_intercept': True, 'max_iter': 5000, 'precompute': False, 'tol': 0.005, 'alpha': 1.57}\n",
      "0.641120 (0.060607) with: {'normalize': False, 'selection': 'random', 'fit_intercept': True, 'max_iter': 5000, 'precompute': True, 'tol': 0.004, 'alpha': 1.57}\n",
      "0.641264 (0.057299) with: {'normalize': False, 'selection': 'random', 'fit_intercept': True, 'max_iter': 5000, 'precompute': True, 'tol': 0.0045, 'alpha': 1.57}\n",
      "0.638054 (0.059568) with: {'normalize': False, 'selection': 'random', 'fit_intercept': True, 'max_iter': 5000, 'precompute': True, 'tol': 0.005, 'alpha': 1.57}\n",
      "0.640960 (0.058356) with: {'normalize': False, 'selection': 'cyclic', 'fit_intercept': True, 'max_iter': 5000, 'precompute': True, 'tol': 0.004, 'alpha': 1.57}\n",
      "0.640961 (0.058386) with: {'normalize': False, 'selection': 'cyclic', 'fit_intercept': True, 'max_iter': 5000, 'precompute': True, 'tol': 0.0045, 'alpha': 1.57}\n",
      "0.640922 (0.058466) with: {'normalize': False, 'selection': 'cyclic', 'fit_intercept': True, 'max_iter': 5000, 'precompute': True, 'tol': 0.005, 'alpha': 1.57}\n",
      "0.641893 (0.060523) with: {'normalize': False, 'selection': 'random', 'fit_intercept': True, 'max_iter': 5000, 'precompute': False, 'tol': 0.004, 'alpha': 1.57}\n",
      "0.641615 (0.060904) with: {'normalize': False, 'selection': 'random', 'fit_intercept': True, 'max_iter': 5000, 'precompute': False, 'tol': 0.0045, 'alpha': 1.57}\n",
      "0.641366 (0.054669) with: {'normalize': False, 'selection': 'random', 'fit_intercept': True, 'max_iter': 5000, 'precompute': False, 'tol': 0.005, 'alpha': 1.57}\n",
      "0.640961 (0.058356) with: {'normalize': False, 'selection': 'cyclic', 'fit_intercept': True, 'max_iter': 5000, 'precompute': False, 'tol': 0.004, 'alpha': 1.57}\n",
      "0.640961 (0.058386) with: {'normalize': False, 'selection': 'cyclic', 'fit_intercept': True, 'max_iter': 5000, 'precompute': False, 'tol': 0.0045, 'alpha': 1.57}\n",
      "0.640921 (0.058466) with: {'normalize': False, 'selection': 'cyclic', 'fit_intercept': True, 'max_iter': 5000, 'precompute': False, 'tol': 0.005, 'alpha': 1.57}\n",
      "-0.008255 (0.011708) with: {'normalize': True, 'selection': 'random', 'fit_intercept': True, 'max_iter': 6000, 'precompute': True, 'tol': 0.004, 'alpha': 1.57}\n",
      "-0.008255 (0.011708) with: {'normalize': True, 'selection': 'random', 'fit_intercept': True, 'max_iter': 6000, 'precompute': True, 'tol': 0.0045, 'alpha': 1.57}\n",
      "-0.008255 (0.011708) with: {'normalize': True, 'selection': 'random', 'fit_intercept': True, 'max_iter': 6000, 'precompute': True, 'tol': 0.005, 'alpha': 1.57}\n",
      "-0.008255 (0.011708) with: {'normalize': True, 'selection': 'cyclic', 'fit_intercept': True, 'max_iter': 6000, 'precompute': True, 'tol': 0.004, 'alpha': 1.57}\n",
      "-0.008255 (0.011708) with: {'normalize': True, 'selection': 'cyclic', 'fit_intercept': True, 'max_iter': 6000, 'precompute': True, 'tol': 0.0045, 'alpha': 1.57}\n",
      "-0.008255 (0.011708) with: {'normalize': True, 'selection': 'cyclic', 'fit_intercept': True, 'max_iter': 6000, 'precompute': True, 'tol': 0.005, 'alpha': 1.57}\n",
      "-0.008255 (0.011708) with: {'normalize': True, 'selection': 'random', 'fit_intercept': True, 'max_iter': 6000, 'precompute': False, 'tol': 0.004, 'alpha': 1.57}\n",
      "-0.008255 (0.011708) with: {'normalize': True, 'selection': 'random', 'fit_intercept': True, 'max_iter': 6000, 'precompute': False, 'tol': 0.0045, 'alpha': 1.57}\n",
      "-0.008255 (0.011708) with: {'normalize': True, 'selection': 'random', 'fit_intercept': True, 'max_iter': 6000, 'precompute': False, 'tol': 0.005, 'alpha': 1.57}\n",
      "-0.008255 (0.011708) with: {'normalize': True, 'selection': 'cyclic', 'fit_intercept': True, 'max_iter': 6000, 'precompute': False, 'tol': 0.004, 'alpha': 1.57}\n",
      "-0.008255 (0.011708) with: {'normalize': True, 'selection': 'cyclic', 'fit_intercept': True, 'max_iter': 6000, 'precompute': False, 'tol': 0.0045, 'alpha': 1.57}\n",
      "-0.008255 (0.011708) with: {'normalize': True, 'selection': 'cyclic', 'fit_intercept': True, 'max_iter': 6000, 'precompute': False, 'tol': 0.005, 'alpha': 1.57}\n",
      "0.637302 (0.060174) with: {'normalize': False, 'selection': 'random', 'fit_intercept': True, 'max_iter': 6000, 'precompute': True, 'tol': 0.004, 'alpha': 1.57}\n",
      "0.640974 (0.056496) with: {'normalize': False, 'selection': 'random', 'fit_intercept': True, 'max_iter': 6000, 'precompute': True, 'tol': 0.0045, 'alpha': 1.57}\n",
      "0.642975 (0.056350) with: {'normalize': False, 'selection': 'random', 'fit_intercept': True, 'max_iter': 6000, 'precompute': True, 'tol': 0.005, 'alpha': 1.57}\n",
      "0.640961 (0.058355) with: {'normalize': False, 'selection': 'cyclic', 'fit_intercept': True, 'max_iter': 6000, 'precompute': True, 'tol': 0.004, 'alpha': 1.57}\n",
      "0.640962 (0.058386) with: {'normalize': False, 'selection': 'cyclic', 'fit_intercept': True, 'max_iter': 6000, 'precompute': True, 'tol': 0.0045, 'alpha': 1.57}\n",
      "0.640922 (0.058466) with: {'normalize': False, 'selection': 'cyclic', 'fit_intercept': True, 'max_iter': 6000, 'precompute': True, 'tol': 0.005, 'alpha': 1.57}\n",
      "0.638356 (0.059746) with: {'normalize': False, 'selection': 'random', 'fit_intercept': True, 'max_iter': 6000, 'precompute': False, 'tol': 0.004, 'alpha': 1.57}\n",
      "0.643206 (0.054331) with: {'normalize': False, 'selection': 'random', 'fit_intercept': True, 'max_iter': 6000, 'precompute': False, 'tol': 0.0045, 'alpha': 1.57}\n",
      "0.637119 (0.059784) with: {'normalize': False, 'selection': 'random', 'fit_intercept': True, 'max_iter': 6000, 'precompute': False, 'tol': 0.005, 'alpha': 1.57}\n",
      "0.640961 (0.058356) with: {'normalize': False, 'selection': 'cyclic', 'fit_intercept': True, 'max_iter': 6000, 'precompute': False, 'tol': 0.004, 'alpha': 1.57}\n",
      "0.640961 (0.058386) with: {'normalize': False, 'selection': 'cyclic', 'fit_intercept': True, 'max_iter': 6000, 'precompute': False, 'tol': 0.0045, 'alpha': 1.57}\n",
      "0.640921 (0.058466) with: {'normalize': False, 'selection': 'cyclic', 'fit_intercept': True, 'max_iter': 6000, 'precompute': False, 'tol': 0.005, 'alpha': 1.57}\n",
      "-0.008255 (0.011708) with: {'normalize': True, 'selection': 'random', 'fit_intercept': True, 'max_iter': 7000, 'precompute': True, 'tol': 0.004, 'alpha': 1.57}\n",
      "-0.008255 (0.011708) with: {'normalize': True, 'selection': 'random', 'fit_intercept': True, 'max_iter': 7000, 'precompute': True, 'tol': 0.0045, 'alpha': 1.57}\n",
      "-0.008255 (0.011708) with: {'normalize': True, 'selection': 'random', 'fit_intercept': True, 'max_iter': 7000, 'precompute': True, 'tol': 0.005, 'alpha': 1.57}\n",
      "-0.008255 (0.011708) with: {'normalize': True, 'selection': 'cyclic', 'fit_intercept': True, 'max_iter': 7000, 'precompute': True, 'tol': 0.004, 'alpha': 1.57}\n",
      "-0.008255 (0.011708) with: {'normalize': True, 'selection': 'cyclic', 'fit_intercept': True, 'max_iter': 7000, 'precompute': True, 'tol': 0.0045, 'alpha': 1.57}\n",
      "-0.008255 (0.011708) with: {'normalize': True, 'selection': 'cyclic', 'fit_intercept': True, 'max_iter': 7000, 'precompute': True, 'tol': 0.005, 'alpha': 1.57}\n",
      "-0.008255 (0.011708) with: {'normalize': True, 'selection': 'random', 'fit_intercept': True, 'max_iter': 7000, 'precompute': False, 'tol': 0.004, 'alpha': 1.57}\n",
      "-0.008255 (0.011708) with: {'normalize': True, 'selection': 'random', 'fit_intercept': True, 'max_iter': 7000, 'precompute': False, 'tol': 0.0045, 'alpha': 1.57}\n",
      "-0.008255 (0.011708) with: {'normalize': True, 'selection': 'random', 'fit_intercept': True, 'max_iter': 7000, 'precompute': False, 'tol': 0.005, 'alpha': 1.57}\n",
      "-0.008255 (0.011708) with: {'normalize': True, 'selection': 'cyclic', 'fit_intercept': True, 'max_iter': 7000, 'precompute': False, 'tol': 0.004, 'alpha': 1.57}\n",
      "-0.008255 (0.011708) with: {'normalize': True, 'selection': 'cyclic', 'fit_intercept': True, 'max_iter': 7000, 'precompute': False, 'tol': 0.0045, 'alpha': 1.57}\n",
      "-0.008255 (0.011708) with: {'normalize': True, 'selection': 'cyclic', 'fit_intercept': True, 'max_iter': 7000, 'precompute': False, 'tol': 0.005, 'alpha': 1.57}\n",
      "0.639462 (0.059876) with: {'normalize': False, 'selection': 'random', 'fit_intercept': True, 'max_iter': 7000, 'precompute': True, 'tol': 0.004, 'alpha': 1.57}\n",
      "0.641927 (0.056459) with: {'normalize': False, 'selection': 'random', 'fit_intercept': True, 'max_iter': 7000, 'precompute': True, 'tol': 0.0045, 'alpha': 1.57}\n",
      "0.639374 (0.061664) with: {'normalize': False, 'selection': 'random', 'fit_intercept': True, 'max_iter': 7000, 'precompute': True, 'tol': 0.005, 'alpha': 1.57}\n",
      "0.640961 (0.058355) with: {'normalize': False, 'selection': 'cyclic', 'fit_intercept': True, 'max_iter': 7000, 'precompute': True, 'tol': 0.004, 'alpha': 1.57}\n",
      "0.640961 (0.058386) with: {'normalize': False, 'selection': 'cyclic', 'fit_intercept': True, 'max_iter': 7000, 'precompute': True, 'tol': 0.0045, 'alpha': 1.57}\n",
      "0.640922 (0.058466) with: {'normalize': False, 'selection': 'cyclic', 'fit_intercept': True, 'max_iter': 7000, 'precompute': True, 'tol': 0.005, 'alpha': 1.57}\n",
      "0.643650 (0.056864) with: {'normalize': False, 'selection': 'random', 'fit_intercept': True, 'max_iter': 7000, 'precompute': False, 'tol': 0.004, 'alpha': 1.57}\n",
      "0.644399 (0.055799) with: {'normalize': False, 'selection': 'random', 'fit_intercept': True, 'max_iter': 7000, 'precompute': False, 'tol': 0.0045, 'alpha': 1.57}\n",
      "0.639553 (0.054797) with: {'normalize': False, 'selection': 'random', 'fit_intercept': True, 'max_iter': 7000, 'precompute': False, 'tol': 0.005, 'alpha': 1.57}\n",
      "0.640961 (0.058356) with: {'normalize': False, 'selection': 'cyclic', 'fit_intercept': True, 'max_iter': 7000, 'precompute': False, 'tol': 0.004, 'alpha': 1.57}\n",
      "0.640961 (0.058386) with: {'normalize': False, 'selection': 'cyclic', 'fit_intercept': True, 'max_iter': 7000, 'precompute': False, 'tol': 0.0045, 'alpha': 1.57}\n",
      "0.640921 (0.058466) with: {'normalize': False, 'selection': 'cyclic', 'fit_intercept': True, 'max_iter': 7000, 'precompute': False, 'tol': 0.005, 'alpha': 1.57}\n",
      "0.635898 (0.054472) with: {'normalize': True, 'selection': 'random', 'fit_intercept': False, 'max_iter': 5000, 'precompute': True, 'tol': 0.004, 'alpha': 1.57}\n",
      "0.626208 (0.064164) with: {'normalize': True, 'selection': 'random', 'fit_intercept': False, 'max_iter': 5000, 'precompute': True, 'tol': 0.0045, 'alpha': 1.57}\n",
      "0.637487 (0.051255) with: {'normalize': True, 'selection': 'random', 'fit_intercept': False, 'max_iter': 5000, 'precompute': True, 'tol': 0.005, 'alpha': 1.57}\n",
      "0.624635 (0.062711) with: {'normalize': True, 'selection': 'cyclic', 'fit_intercept': False, 'max_iter': 5000, 'precompute': True, 'tol': 0.004, 'alpha': 1.57}\n",
      "0.624635 (0.062711) with: {'normalize': True, 'selection': 'cyclic', 'fit_intercept': False, 'max_iter': 5000, 'precompute': True, 'tol': 0.0045, 'alpha': 1.57}\n",
      "0.624635 (0.062711) with: {'normalize': True, 'selection': 'cyclic', 'fit_intercept': False, 'max_iter': 5000, 'precompute': True, 'tol': 0.005, 'alpha': 1.57}\n",
      "0.629654 (0.067927) with: {'normalize': True, 'selection': 'random', 'fit_intercept': False, 'max_iter': 5000, 'precompute': False, 'tol': 0.004, 'alpha': 1.57}\n",
      "0.633292 (0.065083) with: {'normalize': True, 'selection': 'random', 'fit_intercept': False, 'max_iter': 5000, 'precompute': False, 'tol': 0.0045, 'alpha': 1.57}\n",
      "0.630888 (0.052651) with: {'normalize': True, 'selection': 'random', 'fit_intercept': False, 'max_iter': 5000, 'precompute': False, 'tol': 0.005, 'alpha': 1.57}\n",
      "0.624635 (0.062711) with: {'normalize': True, 'selection': 'cyclic', 'fit_intercept': False, 'max_iter': 5000, 'precompute': False, 'tol': 0.004, 'alpha': 1.57}\n",
      "0.624635 (0.062711) with: {'normalize': True, 'selection': 'cyclic', 'fit_intercept': False, 'max_iter': 5000, 'precompute': False, 'tol': 0.0045, 'alpha': 1.57}\n",
      "0.624635 (0.062711) with: {'normalize': True, 'selection': 'cyclic', 'fit_intercept': False, 'max_iter': 5000, 'precompute': False, 'tol': 0.005, 'alpha': 1.57}\n",
      "0.622621 (0.063553) with: {'normalize': False, 'selection': 'random', 'fit_intercept': False, 'max_iter': 5000, 'precompute': True, 'tol': 0.004, 'alpha': 1.57}\n",
      "0.636045 (0.050141) with: {'normalize': False, 'selection': 'random', 'fit_intercept': False, 'max_iter': 5000, 'precompute': True, 'tol': 0.0045, 'alpha': 1.57}\n",
      "0.627763 (0.062192) with: {'normalize': False, 'selection': 'random', 'fit_intercept': False, 'max_iter': 5000, 'precompute': True, 'tol': 0.005, 'alpha': 1.57}\n",
      "0.624635 (0.062711) with: {'normalize': False, 'selection': 'cyclic', 'fit_intercept': False, 'max_iter': 5000, 'precompute': True, 'tol': 0.004, 'alpha': 1.57}\n",
      "0.624635 (0.062711) with: {'normalize': False, 'selection': 'cyclic', 'fit_intercept': False, 'max_iter': 5000, 'precompute': True, 'tol': 0.0045, 'alpha': 1.57}\n",
      "0.624635 (0.062711) with: {'normalize': False, 'selection': 'cyclic', 'fit_intercept': False, 'max_iter': 5000, 'precompute': True, 'tol': 0.005, 'alpha': 1.57}\n",
      "0.626064 (0.067578) with: {'normalize': False, 'selection': 'random', 'fit_intercept': False, 'max_iter': 5000, 'precompute': False, 'tol': 0.004, 'alpha': 1.57}\n",
      "0.632336 (0.053833) with: {'normalize': False, 'selection': 'random', 'fit_intercept': False, 'max_iter': 5000, 'precompute': False, 'tol': 0.0045, 'alpha': 1.57}\n",
      "0.629711 (0.067905) with: {'normalize': False, 'selection': 'random', 'fit_intercept': False, 'max_iter': 5000, 'precompute': False, 'tol': 0.005, 'alpha': 1.57}\n",
      "0.624635 (0.062711) with: {'normalize': False, 'selection': 'cyclic', 'fit_intercept': False, 'max_iter': 5000, 'precompute': False, 'tol': 0.004, 'alpha': 1.57}\n",
      "0.624635 (0.062711) with: {'normalize': False, 'selection': 'cyclic', 'fit_intercept': False, 'max_iter': 5000, 'precompute': False, 'tol': 0.0045, 'alpha': 1.57}\n",
      "0.624635 (0.062711) with: {'normalize': False, 'selection': 'cyclic', 'fit_intercept': False, 'max_iter': 5000, 'precompute': False, 'tol': 0.005, 'alpha': 1.57}\n",
      "0.633292 (0.065083) with: {'normalize': True, 'selection': 'random', 'fit_intercept': False, 'max_iter': 6000, 'precompute': True, 'tol': 0.004, 'alpha': 1.57}\n",
      "0.630888 (0.052651) with: {'normalize': True, 'selection': 'random', 'fit_intercept': False, 'max_iter': 6000, 'precompute': True, 'tol': 0.0045, 'alpha': 1.57}\n",
      "0.626062 (0.067576) with: {'normalize': True, 'selection': 'random', 'fit_intercept': False, 'max_iter': 6000, 'precompute': True, 'tol': 0.005, 'alpha': 1.57}\n",
      "0.624635 (0.062711) with: {'normalize': True, 'selection': 'cyclic', 'fit_intercept': False, 'max_iter': 6000, 'precompute': True, 'tol': 0.004, 'alpha': 1.57}\n",
      "0.624635 (0.062711) with: {'normalize': True, 'selection': 'cyclic', 'fit_intercept': False, 'max_iter': 6000, 'precompute': True, 'tol': 0.0045, 'alpha': 1.57}\n",
      "0.624635 (0.062711) with: {'normalize': True, 'selection': 'cyclic', 'fit_intercept': False, 'max_iter': 6000, 'precompute': True, 'tol': 0.005, 'alpha': 1.57}\n",
      "0.632304 (0.057999) with: {'normalize': True, 'selection': 'random', 'fit_intercept': False, 'max_iter': 6000, 'precompute': False, 'tol': 0.004, 'alpha': 1.57}\n",
      "0.637461 (0.051284) with: {'normalize': True, 'selection': 'random', 'fit_intercept': False, 'max_iter': 6000, 'precompute': False, 'tol': 0.0045, 'alpha': 1.57}\n",
      "0.632357 (0.049929) with: {'normalize': True, 'selection': 'random', 'fit_intercept': False, 'max_iter': 6000, 'precompute': False, 'tol': 0.005, 'alpha': 1.57}\n",
      "0.624635 (0.062711) with: {'normalize': True, 'selection': 'cyclic', 'fit_intercept': False, 'max_iter': 6000, 'precompute': False, 'tol': 0.004, 'alpha': 1.57}\n",
      "0.624635 (0.062711) with: {'normalize': True, 'selection': 'cyclic', 'fit_intercept': False, 'max_iter': 6000, 'precompute': False, 'tol': 0.0045, 'alpha': 1.57}\n",
      "0.624635 (0.062711) with: {'normalize': True, 'selection': 'cyclic', 'fit_intercept': False, 'max_iter': 6000, 'precompute': False, 'tol': 0.005, 'alpha': 1.57}\n",
      "0.629656 (0.064901) with: {'normalize': False, 'selection': 'random', 'fit_intercept': False, 'max_iter': 6000, 'precompute': True, 'tol': 0.004, 'alpha': 1.57}\n",
      "0.626104 (0.067479) with: {'normalize': False, 'selection': 'random', 'fit_intercept': False, 'max_iter': 6000, 'precompute': True, 'tol': 0.0045, 'alpha': 1.57}\n",
      "0.637420 (0.055589) with: {'normalize': False, 'selection': 'random', 'fit_intercept': False, 'max_iter': 6000, 'precompute': True, 'tol': 0.005, 'alpha': 1.57}\n",
      "0.624635 (0.062711) with: {'normalize': False, 'selection': 'cyclic', 'fit_intercept': False, 'max_iter': 6000, 'precompute': True, 'tol': 0.004, 'alpha': 1.57}\n",
      "0.624635 (0.062711) with: {'normalize': False, 'selection': 'cyclic', 'fit_intercept': False, 'max_iter': 6000, 'precompute': True, 'tol': 0.0045, 'alpha': 1.57}\n",
      "0.624635 (0.062711) with: {'normalize': False, 'selection': 'cyclic', 'fit_intercept': False, 'max_iter': 6000, 'precompute': True, 'tol': 0.005, 'alpha': 1.57}\n",
      "0.631213 (0.065950) with: {'normalize': False, 'selection': 'random', 'fit_intercept': False, 'max_iter': 6000, 'precompute': False, 'tol': 0.004, 'alpha': 1.57}\n",
      "0.633999 (0.051439) with: {'normalize': False, 'selection': 'random', 'fit_intercept': False, 'max_iter': 6000, 'precompute': False, 'tol': 0.0045, 'alpha': 1.57}\n",
      "0.632288 (0.058020) with: {'normalize': False, 'selection': 'random', 'fit_intercept': False, 'max_iter': 6000, 'precompute': False, 'tol': 0.005, 'alpha': 1.57}\n",
      "0.624635 (0.062711) with: {'normalize': False, 'selection': 'cyclic', 'fit_intercept': False, 'max_iter': 6000, 'precompute': False, 'tol': 0.004, 'alpha': 1.57}\n",
      "0.624635 (0.062711) with: {'normalize': False, 'selection': 'cyclic', 'fit_intercept': False, 'max_iter': 6000, 'precompute': False, 'tol': 0.0045, 'alpha': 1.57}\n",
      "0.624635 (0.062711) with: {'normalize': False, 'selection': 'cyclic', 'fit_intercept': False, 'max_iter': 6000, 'precompute': False, 'tol': 0.005, 'alpha': 1.57}\n",
      "0.637461 (0.051284) with: {'normalize': True, 'selection': 'random', 'fit_intercept': False, 'max_iter': 7000, 'precompute': True, 'tol': 0.004, 'alpha': 1.57}\n",
      "0.630735 (0.056725) with: {'normalize': True, 'selection': 'random', 'fit_intercept': False, 'max_iter': 7000, 'precompute': True, 'tol': 0.0045, 'alpha': 1.57}\n",
      "0.631201 (0.066034) with: {'normalize': True, 'selection': 'random', 'fit_intercept': False, 'max_iter': 7000, 'precompute': True, 'tol': 0.005, 'alpha': 1.57}\n",
      "0.624635 (0.062711) with: {'normalize': True, 'selection': 'cyclic', 'fit_intercept': False, 'max_iter': 7000, 'precompute': True, 'tol': 0.004, 'alpha': 1.57}\n",
      "0.624635 (0.062711) with: {'normalize': True, 'selection': 'cyclic', 'fit_intercept': False, 'max_iter': 7000, 'precompute': True, 'tol': 0.0045, 'alpha': 1.57}\n",
      "0.624635 (0.062711) with: {'normalize': True, 'selection': 'cyclic', 'fit_intercept': False, 'max_iter': 7000, 'precompute': True, 'tol': 0.005, 'alpha': 1.57}\n",
      "0.639495 (0.054344) with: {'normalize': True, 'selection': 'random', 'fit_intercept': False, 'max_iter': 7000, 'precompute': False, 'tol': 0.004, 'alpha': 1.57}\n",
      "0.632465 (0.053963) with: {'normalize': True, 'selection': 'random', 'fit_intercept': False, 'max_iter': 7000, 'precompute': False, 'tol': 0.0045, 'alpha': 1.57}\n",
      "0.634801 (0.066163) with: {'normalize': True, 'selection': 'random', 'fit_intercept': False, 'max_iter': 7000, 'precompute': False, 'tol': 0.005, 'alpha': 1.57}\n",
      "0.624635 (0.062711) with: {'normalize': True, 'selection': 'cyclic', 'fit_intercept': False, 'max_iter': 7000, 'precompute': False, 'tol': 0.004, 'alpha': 1.57}\n",
      "0.624635 (0.062711) with: {'normalize': True, 'selection': 'cyclic', 'fit_intercept': False, 'max_iter': 7000, 'precompute': False, 'tol': 0.0045, 'alpha': 1.57}\n",
      "0.624635 (0.062711) with: {'normalize': True, 'selection': 'cyclic', 'fit_intercept': False, 'max_iter': 7000, 'precompute': False, 'tol': 0.005, 'alpha': 1.57}\n",
      "0.620975 (0.062062) with: {'normalize': False, 'selection': 'random', 'fit_intercept': False, 'max_iter': 7000, 'precompute': True, 'tol': 0.004, 'alpha': 1.57}\n",
      "0.633995 (0.051434) with: {'normalize': False, 'selection': 'random', 'fit_intercept': False, 'max_iter': 7000, 'precompute': True, 'tol': 0.0045, 'alpha': 1.57}\n",
      "0.629712 (0.067902) with: {'normalize': False, 'selection': 'random', 'fit_intercept': False, 'max_iter': 7000, 'precompute': True, 'tol': 0.005, 'alpha': 1.57}\n",
      "0.624635 (0.062711) with: {'normalize': False, 'selection': 'cyclic', 'fit_intercept': False, 'max_iter': 7000, 'precompute': True, 'tol': 0.004, 'alpha': 1.57}\n",
      "0.624635 (0.062711) with: {'normalize': False, 'selection': 'cyclic', 'fit_intercept': False, 'max_iter': 7000, 'precompute': True, 'tol': 0.0045, 'alpha': 1.57}\n",
      "0.624635 (0.062711) with: {'normalize': False, 'selection': 'cyclic', 'fit_intercept': False, 'max_iter': 7000, 'precompute': True, 'tol': 0.005, 'alpha': 1.57}\n",
      "0.637486 (0.051254) with: {'normalize': False, 'selection': 'random', 'fit_intercept': False, 'max_iter': 7000, 'precompute': False, 'tol': 0.004, 'alpha': 1.57}\n",
      "0.629691 (0.064866) with: {'normalize': False, 'selection': 'random', 'fit_intercept': False, 'max_iter': 7000, 'precompute': False, 'tol': 0.0045, 'alpha': 1.57}\n",
      "0.629653 (0.067971) with: {'normalize': False, 'selection': 'random', 'fit_intercept': False, 'max_iter': 7000, 'precompute': False, 'tol': 0.005, 'alpha': 1.57}\n",
      "0.624635 (0.062711) with: {'normalize': False, 'selection': 'cyclic', 'fit_intercept': False, 'max_iter': 7000, 'precompute': False, 'tol': 0.004, 'alpha': 1.57}\n",
      "0.624635 (0.062711) with: {'normalize': False, 'selection': 'cyclic', 'fit_intercept': False, 'max_iter': 7000, 'precompute': False, 'tol': 0.0045, 'alpha': 1.57}\n",
      "0.624635 (0.062711) with: {'normalize': False, 'selection': 'cyclic', 'fit_intercept': False, 'max_iter': 7000, 'precompute': False, 'tol': 0.005, 'alpha': 1.57}\n",
      "-0.008255 (0.011708) with: {'normalize': True, 'selection': 'random', 'fit_intercept': True, 'max_iter': 5000, 'precompute': True, 'tol': 0.004, 'alpha': 1.6}\n",
      "-0.008255 (0.011708) with: {'normalize': True, 'selection': 'random', 'fit_intercept': True, 'max_iter': 5000, 'precompute': True, 'tol': 0.0045, 'alpha': 1.6}\n",
      "-0.008255 (0.011708) with: {'normalize': True, 'selection': 'random', 'fit_intercept': True, 'max_iter': 5000, 'precompute': True, 'tol': 0.005, 'alpha': 1.6}\n",
      "-0.008255 (0.011708) with: {'normalize': True, 'selection': 'cyclic', 'fit_intercept': True, 'max_iter': 5000, 'precompute': True, 'tol': 0.004, 'alpha': 1.6}\n",
      "-0.008255 (0.011708) with: {'normalize': True, 'selection': 'cyclic', 'fit_intercept': True, 'max_iter': 5000, 'precompute': True, 'tol': 0.0045, 'alpha': 1.6}\n",
      "-0.008255 (0.011708) with: {'normalize': True, 'selection': 'cyclic', 'fit_intercept': True, 'max_iter': 5000, 'precompute': True, 'tol': 0.005, 'alpha': 1.6}\n",
      "-0.008255 (0.011708) with: {'normalize': True, 'selection': 'random', 'fit_intercept': True, 'max_iter': 5000, 'precompute': False, 'tol': 0.004, 'alpha': 1.6}\n",
      "-0.008255 (0.011708) with: {'normalize': True, 'selection': 'random', 'fit_intercept': True, 'max_iter': 5000, 'precompute': False, 'tol': 0.0045, 'alpha': 1.6}\n",
      "-0.008255 (0.011708) with: {'normalize': True, 'selection': 'random', 'fit_intercept': True, 'max_iter': 5000, 'precompute': False, 'tol': 0.005, 'alpha': 1.6}\n",
      "-0.008255 (0.011708) with: {'normalize': True, 'selection': 'cyclic', 'fit_intercept': True, 'max_iter': 5000, 'precompute': False, 'tol': 0.004, 'alpha': 1.6}\n",
      "-0.008255 (0.011708) with: {'normalize': True, 'selection': 'cyclic', 'fit_intercept': True, 'max_iter': 5000, 'precompute': False, 'tol': 0.0045, 'alpha': 1.6}\n",
      "-0.008255 (0.011708) with: {'normalize': True, 'selection': 'cyclic', 'fit_intercept': True, 'max_iter': 5000, 'precompute': False, 'tol': 0.005, 'alpha': 1.6}\n",
      "0.642183 (0.056561) with: {'normalize': False, 'selection': 'random', 'fit_intercept': True, 'max_iter': 5000, 'precompute': True, 'tol': 0.004, 'alpha': 1.6}\n",
      "0.641652 (0.054965) with: {'normalize': False, 'selection': 'random', 'fit_intercept': True, 'max_iter': 5000, 'precompute': True, 'tol': 0.0045, 'alpha': 1.6}\n",
      "0.643141 (0.054423) with: {'normalize': False, 'selection': 'random', 'fit_intercept': True, 'max_iter': 5000, 'precompute': True, 'tol': 0.005, 'alpha': 1.6}\n",
      "0.640951 (0.058367) with: {'normalize': False, 'selection': 'cyclic', 'fit_intercept': True, 'max_iter': 5000, 'precompute': True, 'tol': 0.004, 'alpha': 1.6}\n",
      "0.640952 (0.058398) with: {'normalize': False, 'selection': 'cyclic', 'fit_intercept': True, 'max_iter': 5000, 'precompute': True, 'tol': 0.0045, 'alpha': 1.6}\n",
      "0.640912 (0.058478) with: {'normalize': False, 'selection': 'cyclic', 'fit_intercept': True, 'max_iter': 5000, 'precompute': True, 'tol': 0.005, 'alpha': 1.6}\n",
      "0.636624 (0.060041) with: {'normalize': False, 'selection': 'random', 'fit_intercept': True, 'max_iter': 5000, 'precompute': False, 'tol': 0.004, 'alpha': 1.6}\n",
      "0.640111 (0.060952) with: {'normalize': False, 'selection': 'random', 'fit_intercept': True, 'max_iter': 5000, 'precompute': False, 'tol': 0.0045, 'alpha': 1.6}\n",
      "0.641135 (0.054461) with: {'normalize': False, 'selection': 'random', 'fit_intercept': True, 'max_iter': 5000, 'precompute': False, 'tol': 0.005, 'alpha': 1.6}\n",
      "0.640952 (0.058367) with: {'normalize': False, 'selection': 'cyclic', 'fit_intercept': True, 'max_iter': 5000, 'precompute': False, 'tol': 0.004, 'alpha': 1.6}\n",
      "0.640953 (0.058397) with: {'normalize': False, 'selection': 'cyclic', 'fit_intercept': True, 'max_iter': 5000, 'precompute': False, 'tol': 0.0045, 'alpha': 1.6}\n",
      "0.640912 (0.058478) with: {'normalize': False, 'selection': 'cyclic', 'fit_intercept': True, 'max_iter': 5000, 'precompute': False, 'tol': 0.005, 'alpha': 1.6}\n",
      "-0.008255 (0.011708) with: {'normalize': True, 'selection': 'random', 'fit_intercept': True, 'max_iter': 6000, 'precompute': True, 'tol': 0.004, 'alpha': 1.6}\n",
      "-0.008255 (0.011708) with: {'normalize': True, 'selection': 'random', 'fit_intercept': True, 'max_iter': 6000, 'precompute': True, 'tol': 0.0045, 'alpha': 1.6}\n",
      "-0.008255 (0.011708) with: {'normalize': True, 'selection': 'random', 'fit_intercept': True, 'max_iter': 6000, 'precompute': True, 'tol': 0.005, 'alpha': 1.6}\n",
      "-0.008255 (0.011708) with: {'normalize': True, 'selection': 'cyclic', 'fit_intercept': True, 'max_iter': 6000, 'precompute': True, 'tol': 0.004, 'alpha': 1.6}\n",
      "-0.008255 (0.011708) with: {'normalize': True, 'selection': 'cyclic', 'fit_intercept': True, 'max_iter': 6000, 'precompute': True, 'tol': 0.0045, 'alpha': 1.6}\n",
      "-0.008255 (0.011708) with: {'normalize': True, 'selection': 'cyclic', 'fit_intercept': True, 'max_iter': 6000, 'precompute': True, 'tol': 0.005, 'alpha': 1.6}\n",
      "-0.008255 (0.011708) with: {'normalize': True, 'selection': 'random', 'fit_intercept': True, 'max_iter': 6000, 'precompute': False, 'tol': 0.004, 'alpha': 1.6}\n",
      "-0.008255 (0.011708) with: {'normalize': True, 'selection': 'random', 'fit_intercept': True, 'max_iter': 6000, 'precompute': False, 'tol': 0.0045, 'alpha': 1.6}\n",
      "-0.008255 (0.011708) with: {'normalize': True, 'selection': 'random', 'fit_intercept': True, 'max_iter': 6000, 'precompute': False, 'tol': 0.005, 'alpha': 1.6}\n",
      "-0.008255 (0.011708) with: {'normalize': True, 'selection': 'cyclic', 'fit_intercept': True, 'max_iter': 6000, 'precompute': False, 'tol': 0.004, 'alpha': 1.6}\n",
      "-0.008255 (0.011708) with: {'normalize': True, 'selection': 'cyclic', 'fit_intercept': True, 'max_iter': 6000, 'precompute': False, 'tol': 0.0045, 'alpha': 1.6}\n",
      "-0.008255 (0.011708) with: {'normalize': True, 'selection': 'cyclic', 'fit_intercept': True, 'max_iter': 6000, 'precompute': False, 'tol': 0.005, 'alpha': 1.6}\n",
      "0.642653 (0.055515) with: {'normalize': False, 'selection': 'random', 'fit_intercept': True, 'max_iter': 6000, 'precompute': True, 'tol': 0.004, 'alpha': 1.6}\n",
      "0.638458 (0.061785) with: {'normalize': False, 'selection': 'random', 'fit_intercept': True, 'max_iter': 6000, 'precompute': True, 'tol': 0.0045, 'alpha': 1.6}\n",
      "0.640732 (0.056706) with: {'normalize': False, 'selection': 'random', 'fit_intercept': True, 'max_iter': 6000, 'precompute': True, 'tol': 0.005, 'alpha': 1.6}\n",
      "0.640952 (0.058367) with: {'normalize': False, 'selection': 'cyclic', 'fit_intercept': True, 'max_iter': 6000, 'precompute': True, 'tol': 0.004, 'alpha': 1.6}\n",
      "0.640953 (0.058397) with: {'normalize': False, 'selection': 'cyclic', 'fit_intercept': True, 'max_iter': 6000, 'precompute': True, 'tol': 0.0045, 'alpha': 1.6}\n",
      "0.640913 (0.058477) with: {'normalize': False, 'selection': 'cyclic', 'fit_intercept': True, 'max_iter': 6000, 'precompute': True, 'tol': 0.005, 'alpha': 1.6}\n",
      "0.642899 (0.054516) with: {'normalize': False, 'selection': 'random', 'fit_intercept': True, 'max_iter': 6000, 'precompute': False, 'tol': 0.004, 'alpha': 1.6}\n",
      "0.643594 (0.054822) with: {'normalize': False, 'selection': 'random', 'fit_intercept': True, 'max_iter': 6000, 'precompute': False, 'tol': 0.0045, 'alpha': 1.6}\n",
      "0.642378 (0.056948) with: {'normalize': False, 'selection': 'random', 'fit_intercept': True, 'max_iter': 6000, 'precompute': False, 'tol': 0.005, 'alpha': 1.6}\n",
      "0.640952 (0.058367) with: {'normalize': False, 'selection': 'cyclic', 'fit_intercept': True, 'max_iter': 6000, 'precompute': False, 'tol': 0.004, 'alpha': 1.6}\n",
      "0.640953 (0.058397) with: {'normalize': False, 'selection': 'cyclic', 'fit_intercept': True, 'max_iter': 6000, 'precompute': False, 'tol': 0.0045, 'alpha': 1.6}\n",
      "0.640912 (0.058478) with: {'normalize': False, 'selection': 'cyclic', 'fit_intercept': True, 'max_iter': 6000, 'precompute': False, 'tol': 0.005, 'alpha': 1.6}\n",
      "-0.008255 (0.011708) with: {'normalize': True, 'selection': 'random', 'fit_intercept': True, 'max_iter': 7000, 'precompute': True, 'tol': 0.004, 'alpha': 1.6}\n",
      "-0.008255 (0.011708) with: {'normalize': True, 'selection': 'random', 'fit_intercept': True, 'max_iter': 7000, 'precompute': True, 'tol': 0.0045, 'alpha': 1.6}\n",
      "-0.008255 (0.011708) with: {'normalize': True, 'selection': 'random', 'fit_intercept': True, 'max_iter': 7000, 'precompute': True, 'tol': 0.005, 'alpha': 1.6}\n",
      "-0.008255 (0.011708) with: {'normalize': True, 'selection': 'cyclic', 'fit_intercept': True, 'max_iter': 7000, 'precompute': True, 'tol': 0.004, 'alpha': 1.6}\n",
      "-0.008255 (0.011708) with: {'normalize': True, 'selection': 'cyclic', 'fit_intercept': True, 'max_iter': 7000, 'precompute': True, 'tol': 0.0045, 'alpha': 1.6}\n",
      "-0.008255 (0.011708) with: {'normalize': True, 'selection': 'cyclic', 'fit_intercept': True, 'max_iter': 7000, 'precompute': True, 'tol': 0.005, 'alpha': 1.6}\n",
      "-0.008255 (0.011708) with: {'normalize': True, 'selection': 'random', 'fit_intercept': True, 'max_iter': 7000, 'precompute': False, 'tol': 0.004, 'alpha': 1.6}\n",
      "-0.008255 (0.011708) with: {'normalize': True, 'selection': 'random', 'fit_intercept': True, 'max_iter': 7000, 'precompute': False, 'tol': 0.0045, 'alpha': 1.6}\n",
      "-0.008255 (0.011708) with: {'normalize': True, 'selection': 'random', 'fit_intercept': True, 'max_iter': 7000, 'precompute': False, 'tol': 0.005, 'alpha': 1.6}\n",
      "-0.008255 (0.011708) with: {'normalize': True, 'selection': 'cyclic', 'fit_intercept': True, 'max_iter': 7000, 'precompute': False, 'tol': 0.004, 'alpha': 1.6}\n",
      "-0.008255 (0.011708) with: {'normalize': True, 'selection': 'cyclic', 'fit_intercept': True, 'max_iter': 7000, 'precompute': False, 'tol': 0.0045, 'alpha': 1.6}\n",
      "-0.008255 (0.011708) with: {'normalize': True, 'selection': 'cyclic', 'fit_intercept': True, 'max_iter': 7000, 'precompute': False, 'tol': 0.005, 'alpha': 1.6}\n",
      "0.641844 (0.061084) with: {'normalize': False, 'selection': 'random', 'fit_intercept': True, 'max_iter': 7000, 'precompute': True, 'tol': 0.004, 'alpha': 1.6}\n",
      "0.642052 (0.057045) with: {'normalize': False, 'selection': 'random', 'fit_intercept': True, 'max_iter': 7000, 'precompute': True, 'tol': 0.0045, 'alpha': 1.6}\n",
      "0.638547 (0.060409) with: {'normalize': False, 'selection': 'random', 'fit_intercept': True, 'max_iter': 7000, 'precompute': True, 'tol': 0.005, 'alpha': 1.6}\n",
      "0.640951 (0.058367) with: {'normalize': False, 'selection': 'cyclic', 'fit_intercept': True, 'max_iter': 7000, 'precompute': True, 'tol': 0.004, 'alpha': 1.6}\n",
      "0.640952 (0.058398) with: {'normalize': False, 'selection': 'cyclic', 'fit_intercept': True, 'max_iter': 7000, 'precompute': True, 'tol': 0.0045, 'alpha': 1.6}\n",
      "0.640912 (0.058478) with: {'normalize': False, 'selection': 'cyclic', 'fit_intercept': True, 'max_iter': 7000, 'precompute': True, 'tol': 0.005, 'alpha': 1.6}\n",
      "0.641158 (0.055592) with: {'normalize': False, 'selection': 'random', 'fit_intercept': True, 'max_iter': 7000, 'precompute': False, 'tol': 0.004, 'alpha': 1.6}\n",
      "0.642074 (0.055266) with: {'normalize': False, 'selection': 'random', 'fit_intercept': True, 'max_iter': 7000, 'precompute': False, 'tol': 0.0045, 'alpha': 1.6}\n",
      "0.637419 (0.060245) with: {'normalize': False, 'selection': 'random', 'fit_intercept': True, 'max_iter': 7000, 'precompute': False, 'tol': 0.005, 'alpha': 1.6}\n",
      "0.640952 (0.058367) with: {'normalize': False, 'selection': 'cyclic', 'fit_intercept': True, 'max_iter': 7000, 'precompute': False, 'tol': 0.004, 'alpha': 1.6}\n",
      "0.640953 (0.058397) with: {'normalize': False, 'selection': 'cyclic', 'fit_intercept': True, 'max_iter': 7000, 'precompute': False, 'tol': 0.0045, 'alpha': 1.6}\n",
      "0.640912 (0.058478) with: {'normalize': False, 'selection': 'cyclic', 'fit_intercept': True, 'max_iter': 7000, 'precompute': False, 'tol': 0.005, 'alpha': 1.6}\n",
      "0.629861 (0.061295) with: {'normalize': True, 'selection': 'random', 'fit_intercept': False, 'max_iter': 5000, 'precompute': True, 'tol': 0.004, 'alpha': 1.6}\n",
      "0.633253 (0.065139) with: {'normalize': True, 'selection': 'random', 'fit_intercept': False, 'max_iter': 5000, 'precompute': True, 'tol': 0.0045, 'alpha': 1.6}\n",
      "0.631232 (0.065983) with: {'normalize': True, 'selection': 'random', 'fit_intercept': False, 'max_iter': 5000, 'precompute': True, 'tol': 0.005, 'alpha': 1.6}\n",
      "0.624636 (0.062713) with: {'normalize': True, 'selection': 'cyclic', 'fit_intercept': False, 'max_iter': 5000, 'precompute': True, 'tol': 0.004, 'alpha': 1.6}\n",
      "0.624636 (0.062713) with: {'normalize': True, 'selection': 'cyclic', 'fit_intercept': False, 'max_iter': 5000, 'precompute': True, 'tol': 0.0045, 'alpha': 1.6}\n",
      "0.624636 (0.062713) with: {'normalize': True, 'selection': 'cyclic', 'fit_intercept': False, 'max_iter': 5000, 'precompute': True, 'tol': 0.005, 'alpha': 1.6}\n",
      "0.632316 (0.058002) with: {'normalize': True, 'selection': 'random', 'fit_intercept': False, 'max_iter': 5000, 'precompute': False, 'tol': 0.004, 'alpha': 1.6}\n",
      "0.637405 (0.055614) with: {'normalize': True, 'selection': 'random', 'fit_intercept': False, 'max_iter': 5000, 'precompute': False, 'tol': 0.0045, 'alpha': 1.6}\n",
      "0.621000 (0.061997) with: {'normalize': True, 'selection': 'random', 'fit_intercept': False, 'max_iter': 5000, 'precompute': False, 'tol': 0.005, 'alpha': 1.6}\n",
      "0.624636 (0.062713) with: {'normalize': True, 'selection': 'cyclic', 'fit_intercept': False, 'max_iter': 5000, 'precompute': False, 'tol': 0.004, 'alpha': 1.6}\n",
      "0.624636 (0.062713) with: {'normalize': True, 'selection': 'cyclic', 'fit_intercept': False, 'max_iter': 5000, 'precompute': False, 'tol': 0.0045, 'alpha': 1.6}\n",
      "0.624636 (0.062713) with: {'normalize': True, 'selection': 'cyclic', 'fit_intercept': False, 'max_iter': 5000, 'precompute': False, 'tol': 0.005, 'alpha': 1.6}\n",
      "0.630840 (0.052490) with: {'normalize': False, 'selection': 'random', 'fit_intercept': False, 'max_iter': 5000, 'precompute': True, 'tol': 0.004, 'alpha': 1.6}\n",
      "0.621090 (0.062195) with: {'normalize': False, 'selection': 'random', 'fit_intercept': False, 'max_iter': 5000, 'precompute': True, 'tol': 0.0045, 'alpha': 1.6}\n",
      "0.629631 (0.064894) with: {'normalize': False, 'selection': 'random', 'fit_intercept': False, 'max_iter': 5000, 'precompute': True, 'tol': 0.005, 'alpha': 1.6}\n",
      "0.624636 (0.062713) with: {'normalize': False, 'selection': 'cyclic', 'fit_intercept': False, 'max_iter': 5000, 'precompute': True, 'tol': 0.004, 'alpha': 1.6}\n",
      "0.624636 (0.062713) with: {'normalize': False, 'selection': 'cyclic', 'fit_intercept': False, 'max_iter': 5000, 'precompute': True, 'tol': 0.0045, 'alpha': 1.6}\n",
      "0.624636 (0.062713) with: {'normalize': False, 'selection': 'cyclic', 'fit_intercept': False, 'max_iter': 5000, 'precompute': True, 'tol': 0.005, 'alpha': 1.6}\n",
      "0.621009 (0.062004) with: {'normalize': False, 'selection': 'random', 'fit_intercept': False, 'max_iter': 5000, 'precompute': False, 'tol': 0.004, 'alpha': 1.6}\n",
      "0.633232 (0.065106) with: {'normalize': False, 'selection': 'random', 'fit_intercept': False, 'max_iter': 5000, 'precompute': False, 'tol': 0.0045, 'alpha': 1.6}\n",
      "0.620959 (0.062052) with: {'normalize': False, 'selection': 'random', 'fit_intercept': False, 'max_iter': 5000, 'precompute': False, 'tol': 0.005, 'alpha': 1.6}\n",
      "0.624636 (0.062713) with: {'normalize': False, 'selection': 'cyclic', 'fit_intercept': False, 'max_iter': 5000, 'precompute': False, 'tol': 0.004, 'alpha': 1.6}\n",
      "0.624636 (0.062713) with: {'normalize': False, 'selection': 'cyclic', 'fit_intercept': False, 'max_iter': 5000, 'precompute': False, 'tol': 0.0045, 'alpha': 1.6}\n",
      "0.624636 (0.062713) with: {'normalize': False, 'selection': 'cyclic', 'fit_intercept': False, 'max_iter': 5000, 'precompute': False, 'tol': 0.005, 'alpha': 1.6}\n",
      "0.629646 (0.067975) with: {'normalize': True, 'selection': 'random', 'fit_intercept': False, 'max_iter': 6000, 'precompute': True, 'tol': 0.004, 'alpha': 1.6}\n",
      "0.624525 (0.066293) with: {'normalize': True, 'selection': 'random', 'fit_intercept': False, 'max_iter': 6000, 'precompute': True, 'tol': 0.0045, 'alpha': 1.6}\n",
      "0.632368 (0.053817) with: {'normalize': True, 'selection': 'random', 'fit_intercept': False, 'max_iter': 6000, 'precompute': True, 'tol': 0.005, 'alpha': 1.6}\n",
      "0.624636 (0.062713) with: {'normalize': True, 'selection': 'cyclic', 'fit_intercept': False, 'max_iter': 6000, 'precompute': True, 'tol': 0.004, 'alpha': 1.6}\n",
      "0.624636 (0.062713) with: {'normalize': True, 'selection': 'cyclic', 'fit_intercept': False, 'max_iter': 6000, 'precompute': True, 'tol': 0.0045, 'alpha': 1.6}\n",
      "0.624636 (0.062713) with: {'normalize': True, 'selection': 'cyclic', 'fit_intercept': False, 'max_iter': 6000, 'precompute': True, 'tol': 0.005, 'alpha': 1.6}\n",
      "0.631190 (0.066007) with: {'normalize': True, 'selection': 'random', 'fit_intercept': False, 'max_iter': 6000, 'precompute': False, 'tol': 0.004, 'alpha': 1.6}\n",
      "0.629851 (0.061303) with: {'normalize': True, 'selection': 'random', 'fit_intercept': False, 'max_iter': 6000, 'precompute': False, 'tol': 0.0045, 'alpha': 1.6}\n",
      "0.628093 (0.066835) with: {'normalize': True, 'selection': 'random', 'fit_intercept': False, 'max_iter': 6000, 'precompute': False, 'tol': 0.005, 'alpha': 1.6}\n",
      "0.624636 (0.062713) with: {'normalize': True, 'selection': 'cyclic', 'fit_intercept': False, 'max_iter': 6000, 'precompute': False, 'tol': 0.004, 'alpha': 1.6}\n",
      "0.624636 (0.062713) with: {'normalize': True, 'selection': 'cyclic', 'fit_intercept': False, 'max_iter': 6000, 'precompute': False, 'tol': 0.0045, 'alpha': 1.6}\n",
      "0.624636 (0.062713) with: {'normalize': True, 'selection': 'cyclic', 'fit_intercept': False, 'max_iter': 6000, 'precompute': False, 'tol': 0.005, 'alpha': 1.6}\n",
      "0.633232 (0.065106) with: {'normalize': False, 'selection': 'random', 'fit_intercept': False, 'max_iter': 6000, 'precompute': True, 'tol': 0.004, 'alpha': 1.6}\n",
      "0.629809 (0.061350) with: {'normalize': False, 'selection': 'random', 'fit_intercept': False, 'max_iter': 6000, 'precompute': True, 'tol': 0.0045, 'alpha': 1.6}\n",
      "0.630906 (0.052631) with: {'normalize': False, 'selection': 'random', 'fit_intercept': False, 'max_iter': 6000, 'precompute': True, 'tol': 0.005, 'alpha': 1.6}\n",
      "0.624636 (0.062713) with: {'normalize': False, 'selection': 'cyclic', 'fit_intercept': False, 'max_iter': 6000, 'precompute': True, 'tol': 0.004, 'alpha': 1.6}\n",
      "0.624636 (0.062713) with: {'normalize': False, 'selection': 'cyclic', 'fit_intercept': False, 'max_iter': 6000, 'precompute': True, 'tol': 0.0045, 'alpha': 1.6}\n",
      "0.624636 (0.062713) with: {'normalize': False, 'selection': 'cyclic', 'fit_intercept': False, 'max_iter': 6000, 'precompute': True, 'tol': 0.005, 'alpha': 1.6}\n",
      "0.628860 (0.053654) with: {'normalize': False, 'selection': 'random', 'fit_intercept': False, 'max_iter': 6000, 'precompute': False, 'tol': 0.004, 'alpha': 1.6}\n",
      "0.630740 (0.056784) with: {'normalize': False, 'selection': 'random', 'fit_intercept': False, 'max_iter': 6000, 'precompute': False, 'tol': 0.0045, 'alpha': 1.6}\n",
      "0.626092 (0.067566) with: {'normalize': False, 'selection': 'random', 'fit_intercept': False, 'max_iter': 6000, 'precompute': False, 'tol': 0.005, 'alpha': 1.6}\n",
      "0.624636 (0.062713) with: {'normalize': False, 'selection': 'cyclic', 'fit_intercept': False, 'max_iter': 6000, 'precompute': False, 'tol': 0.004, 'alpha': 1.6}\n",
      "0.624636 (0.062713) with: {'normalize': False, 'selection': 'cyclic', 'fit_intercept': False, 'max_iter': 6000, 'precompute': False, 'tol': 0.0045, 'alpha': 1.6}\n",
      "0.624636 (0.062713) with: {'normalize': False, 'selection': 'cyclic', 'fit_intercept': False, 'max_iter': 6000, 'precompute': False, 'tol': 0.005, 'alpha': 1.6}\n",
      "0.630741 (0.056780) with: {'normalize': True, 'selection': 'random', 'fit_intercept': False, 'max_iter': 7000, 'precompute': True, 'tol': 0.004, 'alpha': 1.6}\n",
      "0.630822 (0.052512) with: {'normalize': True, 'selection': 'random', 'fit_intercept': False, 'max_iter': 7000, 'precompute': True, 'tol': 0.0045, 'alpha': 1.6}\n",
      "0.633265 (0.065047) with: {'normalize': True, 'selection': 'random', 'fit_intercept': False, 'max_iter': 7000, 'precompute': True, 'tol': 0.005, 'alpha': 1.6}\n",
      "0.624636 (0.062713) with: {'normalize': True, 'selection': 'cyclic', 'fit_intercept': False, 'max_iter': 7000, 'precompute': True, 'tol': 0.004, 'alpha': 1.6}\n",
      "0.624636 (0.062713) with: {'normalize': True, 'selection': 'cyclic', 'fit_intercept': False, 'max_iter': 7000, 'precompute': True, 'tol': 0.0045, 'alpha': 1.6}\n",
      "0.624636 (0.062713) with: {'normalize': True, 'selection': 'cyclic', 'fit_intercept': False, 'max_iter': 7000, 'precompute': True, 'tol': 0.005, 'alpha': 1.6}\n",
      "0.624587 (0.062715) with: {'normalize': True, 'selection': 'random', 'fit_intercept': False, 'max_iter': 7000, 'precompute': False, 'tol': 0.004, 'alpha': 1.6}\n",
      "0.627316 (0.052207) with: {'normalize': True, 'selection': 'random', 'fit_intercept': False, 'max_iter': 7000, 'precompute': False, 'tol': 0.0045, 'alpha': 1.6}\n",
      "0.641015 (0.055392) with: {'normalize': True, 'selection': 'random', 'fit_intercept': False, 'max_iter': 7000, 'precompute': False, 'tol': 0.005, 'alpha': 1.6}\n",
      "0.624636 (0.062713) with: {'normalize': True, 'selection': 'cyclic', 'fit_intercept': False, 'max_iter': 7000, 'precompute': False, 'tol': 0.004, 'alpha': 1.6}\n",
      "0.624636 (0.062713) with: {'normalize': True, 'selection': 'cyclic', 'fit_intercept': False, 'max_iter': 7000, 'precompute': False, 'tol': 0.0045, 'alpha': 1.6}\n",
      "0.624636 (0.062713) with: {'normalize': True, 'selection': 'cyclic', 'fit_intercept': False, 'max_iter': 7000, 'precompute': False, 'tol': 0.005, 'alpha': 1.6}\n",
      "0.624547 (0.066361) with: {'normalize': False, 'selection': 'random', 'fit_intercept': False, 'max_iter': 7000, 'precompute': True, 'tol': 0.004, 'alpha': 1.6}\n",
      "0.629746 (0.061184) with: {'normalize': False, 'selection': 'random', 'fit_intercept': False, 'max_iter': 7000, 'precompute': True, 'tol': 0.0045, 'alpha': 1.6}\n",
      "0.635885 (0.058043) with: {'normalize': False, 'selection': 'random', 'fit_intercept': False, 'max_iter': 7000, 'precompute': True, 'tol': 0.005, 'alpha': 1.6}\n",
      "0.624636 (0.062713) with: {'normalize': False, 'selection': 'cyclic', 'fit_intercept': False, 'max_iter': 7000, 'precompute': True, 'tol': 0.004, 'alpha': 1.6}\n",
      "0.624636 (0.062713) with: {'normalize': False, 'selection': 'cyclic', 'fit_intercept': False, 'max_iter': 7000, 'precompute': True, 'tol': 0.0045, 'alpha': 1.6}\n",
      "0.624636 (0.062713) with: {'normalize': False, 'selection': 'cyclic', 'fit_intercept': False, 'max_iter': 7000, 'precompute': True, 'tol': 0.005, 'alpha': 1.6}\n",
      "0.627203 (0.052103) with: {'normalize': False, 'selection': 'random', 'fit_intercept': False, 'max_iter': 7000, 'precompute': False, 'tol': 0.004, 'alpha': 1.6}\n",
      "0.628877 (0.053657) with: {'normalize': False, 'selection': 'random', 'fit_intercept': False, 'max_iter': 7000, 'precompute': False, 'tol': 0.0045, 'alpha': 1.6}\n",
      "0.630905 (0.052667) with: {'normalize': False, 'selection': 'random', 'fit_intercept': False, 'max_iter': 7000, 'precompute': False, 'tol': 0.005, 'alpha': 1.6}\n",
      "0.624636 (0.062713) with: {'normalize': False, 'selection': 'cyclic', 'fit_intercept': False, 'max_iter': 7000, 'precompute': False, 'tol': 0.004, 'alpha': 1.6}\n",
      "0.624636 (0.062713) with: {'normalize': False, 'selection': 'cyclic', 'fit_intercept': False, 'max_iter': 7000, 'precompute': False, 'tol': 0.0045, 'alpha': 1.6}\n",
      "0.624636 (0.062713) with: {'normalize': False, 'selection': 'cyclic', 'fit_intercept': False, 'max_iter': 7000, 'precompute': False, 'tol': 0.005, 'alpha': 1.6}\n"
     ]
    }
   ],
   "source": [
    "print(lasso_reg_cv.best_score_)\n",
    "print(lasso_reg_cv.best_params_)\n",
    "\n",
    "means = lasso_reg_cv.cv_results_['mean_test_score']\n",
    "stds = lasso_reg_cv.cv_results_['std_test_score']\n",
    "params = lasso_reg_cv.cv_results_['params']\n",
    "for mean, stdev, param in zip(means, stds, params):\n",
    "    print(\"%f (%f) with: %r\" % (mean, stdev, param))"
   ]
  },
  {
   "cell_type": "code",
   "execution_count": 37,
   "metadata": {
    "collapsed": false
   },
   "outputs": [
    {
     "data": {
      "text/plain": [
       "Lasso(alpha=1.57, copy_X=True, fit_intercept=True, max_iter=6000,\n",
       "   normalize=False, positive=False, precompute=True, random_state=None,\n",
       "   selection='random', tol=0.004, warm_start=False)"
      ]
     },
     "execution_count": 37,
     "metadata": {},
     "output_type": "execute_result"
    }
   ],
   "source": [
    "lasso_reg = Lasso(max_iter=6000, normalize= False, selection='random', \n",
    "                  fit_intercept=True, precompute=True, \n",
    "                  tol=0.004, alpha= 1.57)\n",
    "lasso_reg.fit(stacked_columns_train, y)"
   ]
  },
  {
   "cell_type": "code",
   "execution_count": 38,
   "metadata": {
    "collapsed": true
   },
   "outputs": [],
   "source": [
    "y_lasso = lasso_reg.predict(stacked_columns_train)"
   ]
  },
  {
   "cell_type": "code",
   "execution_count": 39,
   "metadata": {
    "collapsed": false
   },
   "outputs": [
    {
     "name": "stdout",
     "output_type": "stream",
     "text": [
      "MSE train: 7.65630243812\n",
      "R^2 train: 0.635292048318\n"
     ]
    }
   ],
   "source": [
    "# check performance on train set\n",
    "print('MSE train: {}'.format(mean_squared_error(y, y_lasso)**0.5)) # mse train\n",
    "print('R^2 train: {}'.format(r2_score(y, y_lasso))) # R^2 train"
   ]
  },
  {
   "cell_type": "code",
   "execution_count": 40,
   "metadata": {
    "collapsed": true
   },
   "outputs": [],
   "source": [
    "y_test_lasso = lasso_reg.predict(stacked_columns_test)"
   ]
  },
  {
   "cell_type": "code",
   "execution_count": 72,
   "metadata": {
    "collapsed": true
   },
   "outputs": [],
   "source": [
    "output = pd.DataFrame({'id': test['ID'].astype(np.int32), 'y': y_test_lasso})\n",
    "#output.to_csv('../results/lasso_stack_0628.csv', index=False)"
   ]
  },
  {
   "cell_type": "code",
   "execution_count": 81,
   "metadata": {
    "collapsed": false
   },
   "outputs": [],
   "source": [
    "avg_results = np.mean(np.column_stack((stacked_columns_test, y_test_lasso)), axis = 1)"
   ]
  },
  {
   "cell_type": "code",
   "execution_count": 82,
   "metadata": {
    "collapsed": false
   },
   "outputs": [],
   "source": [
    "output = pd.DataFrame({'id': test['ID'].astype(np.int32), 'y': avg_results})\n",
    "#output.to_csv('../results/avg_results_0628.csv', index=False)"
   ]
  },
  {
   "cell_type": "markdown",
   "metadata": {},
   "source": [
    "## Trying stacking with Ridge regression"
   ]
  },
  {
   "cell_type": "code",
   "execution_count": 44,
   "metadata": {
    "collapsed": false
   },
   "outputs": [
    {
     "name": "stdout",
     "output_type": "stream",
     "text": [
      "Fitting 5 folds for each of 144 candidates, totalling 720 fits\n"
     ]
    },
    {
     "name": "stderr",
     "output_type": "stream",
     "text": [
      "[Parallel(n_jobs=-1)]: Done 720 out of 720 | elapsed:    1.0s finished\n"
     ]
    },
    {
     "data": {
      "text/plain": [
       "GridSearchCV(cv=5, error_score='raise',\n",
       "       estimator=Ridge(alpha=1.0, copy_X=True, fit_intercept=True, max_iter=None,\n",
       "   normalize=False, random_state=42, solver='auto', tol=0.001),\n",
       "       fit_params={}, iid=True, n_jobs=-1,\n",
       "       param_grid={'normalize': [True, False], 'alpha': [0.1, 1.0, 10.0], 'max_iter': [500, 1000, 2000], 'tol': [0.001, 0.01, 0.05, 0.1], 'fit_intercept': [True, False]},\n",
       "       pre_dispatch='2*n_jobs', refit=True, return_train_score=True,\n",
       "       scoring=None, verbose=1)"
      ]
     },
     "execution_count": 44,
     "metadata": {},
     "output_type": "execute_result"
    }
   ],
   "source": [
    "from sklearn.linear_model import Ridge\n",
    "\n",
    "Ridge_reg = Ridge(random_state=seed)\n",
    "\n",
    "Ridge_params = {\n",
    "    'alpha': [0.1, 1.0, 10.0],\n",
    "    'fit_intercept': [True, False],\n",
    "    'normalize': [True, False],\n",
    "    'max_iter': [500, 1000, 2000],\n",
    "    'tol': [0.001, 0.01, 0.05, 0.1]\n",
    "}\n",
    "\n",
    "Ridge_cv = GridSearchCV(Ridge_reg, Ridge_params, cv = 5, verbose=1, n_jobs = -1)\n",
    "Ridge_cv.fit(stacked_columns_train, y)"
   ]
  },
  {
   "cell_type": "code",
   "execution_count": 45,
   "metadata": {
    "collapsed": false
   },
   "outputs": [
    {
     "name": "stdout",
     "output_type": "stream",
     "text": [
      "0.641113970393\n",
      "{'normalize': False, 'alpha': 10.0, 'max_iter': 500, 'tol': 0.001, 'fit_intercept': True}\n",
      "0.639143 (0.059285) with: {'normalize': True, 'alpha': 0.1, 'max_iter': 500, 'tol': 0.001, 'fit_intercept': True}\n",
      "0.639143 (0.059285) with: {'normalize': True, 'alpha': 0.1, 'max_iter': 500, 'tol': 0.01, 'fit_intercept': True}\n",
      "0.639143 (0.059285) with: {'normalize': True, 'alpha': 0.1, 'max_iter': 500, 'tol': 0.05, 'fit_intercept': True}\n",
      "0.639143 (0.059285) with: {'normalize': True, 'alpha': 0.1, 'max_iter': 500, 'tol': 0.1, 'fit_intercept': True}\n",
      "0.641109 (0.057205) with: {'normalize': False, 'alpha': 0.1, 'max_iter': 500, 'tol': 0.001, 'fit_intercept': True}\n",
      "0.641109 (0.057205) with: {'normalize': False, 'alpha': 0.1, 'max_iter': 500, 'tol': 0.01, 'fit_intercept': True}\n",
      "0.641109 (0.057205) with: {'normalize': False, 'alpha': 0.1, 'max_iter': 500, 'tol': 0.05, 'fit_intercept': True}\n",
      "0.641109 (0.057205) with: {'normalize': False, 'alpha': 0.1, 'max_iter': 500, 'tol': 0.1, 'fit_intercept': True}\n",
      "0.639143 (0.059285) with: {'normalize': True, 'alpha': 0.1, 'max_iter': 1000, 'tol': 0.001, 'fit_intercept': True}\n",
      "0.639143 (0.059285) with: {'normalize': True, 'alpha': 0.1, 'max_iter': 1000, 'tol': 0.01, 'fit_intercept': True}\n",
      "0.639143 (0.059285) with: {'normalize': True, 'alpha': 0.1, 'max_iter': 1000, 'tol': 0.05, 'fit_intercept': True}\n",
      "0.639143 (0.059285) with: {'normalize': True, 'alpha': 0.1, 'max_iter': 1000, 'tol': 0.1, 'fit_intercept': True}\n",
      "0.641109 (0.057205) with: {'normalize': False, 'alpha': 0.1, 'max_iter': 1000, 'tol': 0.001, 'fit_intercept': True}\n",
      "0.641109 (0.057205) with: {'normalize': False, 'alpha': 0.1, 'max_iter': 1000, 'tol': 0.01, 'fit_intercept': True}\n",
      "0.641109 (0.057205) with: {'normalize': False, 'alpha': 0.1, 'max_iter': 1000, 'tol': 0.05, 'fit_intercept': True}\n",
      "0.641109 (0.057205) with: {'normalize': False, 'alpha': 0.1, 'max_iter': 1000, 'tol': 0.1, 'fit_intercept': True}\n",
      "0.639143 (0.059285) with: {'normalize': True, 'alpha': 0.1, 'max_iter': 2000, 'tol': 0.001, 'fit_intercept': True}\n",
      "0.639143 (0.059285) with: {'normalize': True, 'alpha': 0.1, 'max_iter': 2000, 'tol': 0.01, 'fit_intercept': True}\n",
      "0.639143 (0.059285) with: {'normalize': True, 'alpha': 0.1, 'max_iter': 2000, 'tol': 0.05, 'fit_intercept': True}\n",
      "0.639143 (0.059285) with: {'normalize': True, 'alpha': 0.1, 'max_iter': 2000, 'tol': 0.1, 'fit_intercept': True}\n",
      "0.641109 (0.057205) with: {'normalize': False, 'alpha': 0.1, 'max_iter': 2000, 'tol': 0.001, 'fit_intercept': True}\n",
      "0.641109 (0.057205) with: {'normalize': False, 'alpha': 0.1, 'max_iter': 2000, 'tol': 0.01, 'fit_intercept': True}\n",
      "0.641109 (0.057205) with: {'normalize': False, 'alpha': 0.1, 'max_iter': 2000, 'tol': 0.05, 'fit_intercept': True}\n",
      "0.641109 (0.057205) with: {'normalize': False, 'alpha': 0.1, 'max_iter': 2000, 'tol': 0.1, 'fit_intercept': True}\n",
      "0.637340 (0.058262) with: {'normalize': True, 'alpha': 0.1, 'max_iter': 500, 'tol': 0.001, 'fit_intercept': False}\n",
      "0.637340 (0.058262) with: {'normalize': True, 'alpha': 0.1, 'max_iter': 500, 'tol': 0.01, 'fit_intercept': False}\n",
      "0.637340 (0.058262) with: {'normalize': True, 'alpha': 0.1, 'max_iter': 500, 'tol': 0.05, 'fit_intercept': False}\n",
      "0.637340 (0.058262) with: {'normalize': True, 'alpha': 0.1, 'max_iter': 500, 'tol': 0.1, 'fit_intercept': False}\n",
      "0.637340 (0.058262) with: {'normalize': False, 'alpha': 0.1, 'max_iter': 500, 'tol': 0.001, 'fit_intercept': False}\n",
      "0.637340 (0.058262) with: {'normalize': False, 'alpha': 0.1, 'max_iter': 500, 'tol': 0.01, 'fit_intercept': False}\n",
      "0.637340 (0.058262) with: {'normalize': False, 'alpha': 0.1, 'max_iter': 500, 'tol': 0.05, 'fit_intercept': False}\n",
      "0.637340 (0.058262) with: {'normalize': False, 'alpha': 0.1, 'max_iter': 500, 'tol': 0.1, 'fit_intercept': False}\n",
      "0.637340 (0.058262) with: {'normalize': True, 'alpha': 0.1, 'max_iter': 1000, 'tol': 0.001, 'fit_intercept': False}\n",
      "0.637340 (0.058262) with: {'normalize': True, 'alpha': 0.1, 'max_iter': 1000, 'tol': 0.01, 'fit_intercept': False}\n",
      "0.637340 (0.058262) with: {'normalize': True, 'alpha': 0.1, 'max_iter': 1000, 'tol': 0.05, 'fit_intercept': False}\n",
      "0.637340 (0.058262) with: {'normalize': True, 'alpha': 0.1, 'max_iter': 1000, 'tol': 0.1, 'fit_intercept': False}\n",
      "0.637340 (0.058262) with: {'normalize': False, 'alpha': 0.1, 'max_iter': 1000, 'tol': 0.001, 'fit_intercept': False}\n",
      "0.637340 (0.058262) with: {'normalize': False, 'alpha': 0.1, 'max_iter': 1000, 'tol': 0.01, 'fit_intercept': False}\n",
      "0.637340 (0.058262) with: {'normalize': False, 'alpha': 0.1, 'max_iter': 1000, 'tol': 0.05, 'fit_intercept': False}\n",
      "0.637340 (0.058262) with: {'normalize': False, 'alpha': 0.1, 'max_iter': 1000, 'tol': 0.1, 'fit_intercept': False}\n",
      "0.637340 (0.058262) with: {'normalize': True, 'alpha': 0.1, 'max_iter': 2000, 'tol': 0.001, 'fit_intercept': False}\n",
      "0.637340 (0.058262) with: {'normalize': True, 'alpha': 0.1, 'max_iter': 2000, 'tol': 0.01, 'fit_intercept': False}\n",
      "0.637340 (0.058262) with: {'normalize': True, 'alpha': 0.1, 'max_iter': 2000, 'tol': 0.05, 'fit_intercept': False}\n",
      "0.637340 (0.058262) with: {'normalize': True, 'alpha': 0.1, 'max_iter': 2000, 'tol': 0.1, 'fit_intercept': False}\n",
      "0.637340 (0.058262) with: {'normalize': False, 'alpha': 0.1, 'max_iter': 2000, 'tol': 0.001, 'fit_intercept': False}\n",
      "0.637340 (0.058262) with: {'normalize': False, 'alpha': 0.1, 'max_iter': 2000, 'tol': 0.01, 'fit_intercept': False}\n",
      "0.637340 (0.058262) with: {'normalize': False, 'alpha': 0.1, 'max_iter': 2000, 'tol': 0.05, 'fit_intercept': False}\n",
      "0.637340 (0.058262) with: {'normalize': False, 'alpha': 0.1, 'max_iter': 2000, 'tol': 0.1, 'fit_intercept': False}\n",
      "0.567628 (0.056903) with: {'normalize': True, 'alpha': 1.0, 'max_iter': 500, 'tol': 0.001, 'fit_intercept': True}\n",
      "0.567628 (0.056903) with: {'normalize': True, 'alpha': 1.0, 'max_iter': 500, 'tol': 0.01, 'fit_intercept': True}\n",
      "0.567628 (0.056903) with: {'normalize': True, 'alpha': 1.0, 'max_iter': 500, 'tol': 0.05, 'fit_intercept': True}\n",
      "0.567628 (0.056903) with: {'normalize': True, 'alpha': 1.0, 'max_iter': 500, 'tol': 0.1, 'fit_intercept': True}\n",
      "0.641110 (0.057205) with: {'normalize': False, 'alpha': 1.0, 'max_iter': 500, 'tol': 0.001, 'fit_intercept': True}\n",
      "0.641110 (0.057205) with: {'normalize': False, 'alpha': 1.0, 'max_iter': 500, 'tol': 0.01, 'fit_intercept': True}\n",
      "0.641110 (0.057205) with: {'normalize': False, 'alpha': 1.0, 'max_iter': 500, 'tol': 0.05, 'fit_intercept': True}\n",
      "0.641110 (0.057205) with: {'normalize': False, 'alpha': 1.0, 'max_iter': 500, 'tol': 0.1, 'fit_intercept': True}\n",
      "0.567628 (0.056903) with: {'normalize': True, 'alpha': 1.0, 'max_iter': 1000, 'tol': 0.001, 'fit_intercept': True}\n",
      "0.567628 (0.056903) with: {'normalize': True, 'alpha': 1.0, 'max_iter': 1000, 'tol': 0.01, 'fit_intercept': True}\n",
      "0.567628 (0.056903) with: {'normalize': True, 'alpha': 1.0, 'max_iter': 1000, 'tol': 0.05, 'fit_intercept': True}\n",
      "0.567628 (0.056903) with: {'normalize': True, 'alpha': 1.0, 'max_iter': 1000, 'tol': 0.1, 'fit_intercept': True}\n",
      "0.641110 (0.057205) with: {'normalize': False, 'alpha': 1.0, 'max_iter': 1000, 'tol': 0.001, 'fit_intercept': True}\n",
      "0.641110 (0.057205) with: {'normalize': False, 'alpha': 1.0, 'max_iter': 1000, 'tol': 0.01, 'fit_intercept': True}\n",
      "0.641110 (0.057205) with: {'normalize': False, 'alpha': 1.0, 'max_iter': 1000, 'tol': 0.05, 'fit_intercept': True}\n",
      "0.641110 (0.057205) with: {'normalize': False, 'alpha': 1.0, 'max_iter': 1000, 'tol': 0.1, 'fit_intercept': True}\n",
      "0.567628 (0.056903) with: {'normalize': True, 'alpha': 1.0, 'max_iter': 2000, 'tol': 0.001, 'fit_intercept': True}\n",
      "0.567628 (0.056903) with: {'normalize': True, 'alpha': 1.0, 'max_iter': 2000, 'tol': 0.01, 'fit_intercept': True}\n",
      "0.567628 (0.056903) with: {'normalize': True, 'alpha': 1.0, 'max_iter': 2000, 'tol': 0.05, 'fit_intercept': True}\n",
      "0.567628 (0.056903) with: {'normalize': True, 'alpha': 1.0, 'max_iter': 2000, 'tol': 0.1, 'fit_intercept': True}\n",
      "0.641110 (0.057205) with: {'normalize': False, 'alpha': 1.0, 'max_iter': 2000, 'tol': 0.001, 'fit_intercept': True}\n",
      "0.641110 (0.057205) with: {'normalize': False, 'alpha': 1.0, 'max_iter': 2000, 'tol': 0.01, 'fit_intercept': True}\n",
      "0.641110 (0.057205) with: {'normalize': False, 'alpha': 1.0, 'max_iter': 2000, 'tol': 0.05, 'fit_intercept': True}\n",
      "0.641110 (0.057205) with: {'normalize': False, 'alpha': 1.0, 'max_iter': 2000, 'tol': 0.1, 'fit_intercept': True}\n",
      "0.637340 (0.058263) with: {'normalize': True, 'alpha': 1.0, 'max_iter': 500, 'tol': 0.001, 'fit_intercept': False}\n",
      "0.637340 (0.058263) with: {'normalize': True, 'alpha': 1.0, 'max_iter': 500, 'tol': 0.01, 'fit_intercept': False}\n",
      "0.637340 (0.058263) with: {'normalize': True, 'alpha': 1.0, 'max_iter': 500, 'tol': 0.05, 'fit_intercept': False}\n",
      "0.637340 (0.058263) with: {'normalize': True, 'alpha': 1.0, 'max_iter': 500, 'tol': 0.1, 'fit_intercept': False}\n",
      "0.637340 (0.058263) with: {'normalize': False, 'alpha': 1.0, 'max_iter': 500, 'tol': 0.001, 'fit_intercept': False}\n",
      "0.637340 (0.058263) with: {'normalize': False, 'alpha': 1.0, 'max_iter': 500, 'tol': 0.01, 'fit_intercept': False}\n",
      "0.637340 (0.058263) with: {'normalize': False, 'alpha': 1.0, 'max_iter': 500, 'tol': 0.05, 'fit_intercept': False}\n",
      "0.637340 (0.058263) with: {'normalize': False, 'alpha': 1.0, 'max_iter': 500, 'tol': 0.1, 'fit_intercept': False}\n",
      "0.637340 (0.058263) with: {'normalize': True, 'alpha': 1.0, 'max_iter': 1000, 'tol': 0.001, 'fit_intercept': False}\n",
      "0.637340 (0.058263) with: {'normalize': True, 'alpha': 1.0, 'max_iter': 1000, 'tol': 0.01, 'fit_intercept': False}\n",
      "0.637340 (0.058263) with: {'normalize': True, 'alpha': 1.0, 'max_iter': 1000, 'tol': 0.05, 'fit_intercept': False}\n",
      "0.637340 (0.058263) with: {'normalize': True, 'alpha': 1.0, 'max_iter': 1000, 'tol': 0.1, 'fit_intercept': False}\n",
      "0.637340 (0.058263) with: {'normalize': False, 'alpha': 1.0, 'max_iter': 1000, 'tol': 0.001, 'fit_intercept': False}\n",
      "0.637340 (0.058263) with: {'normalize': False, 'alpha': 1.0, 'max_iter': 1000, 'tol': 0.01, 'fit_intercept': False}\n",
      "0.637340 (0.058263) with: {'normalize': False, 'alpha': 1.0, 'max_iter': 1000, 'tol': 0.05, 'fit_intercept': False}\n",
      "0.637340 (0.058263) with: {'normalize': False, 'alpha': 1.0, 'max_iter': 1000, 'tol': 0.1, 'fit_intercept': False}\n",
      "0.637340 (0.058263) with: {'normalize': True, 'alpha': 1.0, 'max_iter': 2000, 'tol': 0.001, 'fit_intercept': False}\n",
      "0.637340 (0.058263) with: {'normalize': True, 'alpha': 1.0, 'max_iter': 2000, 'tol': 0.01, 'fit_intercept': False}\n",
      "0.637340 (0.058263) with: {'normalize': True, 'alpha': 1.0, 'max_iter': 2000, 'tol': 0.05, 'fit_intercept': False}\n",
      "0.637340 (0.058263) with: {'normalize': True, 'alpha': 1.0, 'max_iter': 2000, 'tol': 0.1, 'fit_intercept': False}\n",
      "0.637340 (0.058263) with: {'normalize': False, 'alpha': 1.0, 'max_iter': 2000, 'tol': 0.001, 'fit_intercept': False}\n",
      "0.637340 (0.058263) with: {'normalize': False, 'alpha': 1.0, 'max_iter': 2000, 'tol': 0.01, 'fit_intercept': False}\n",
      "0.637340 (0.058263) with: {'normalize': False, 'alpha': 1.0, 'max_iter': 2000, 'tol': 0.05, 'fit_intercept': False}\n",
      "0.637340 (0.058263) with: {'normalize': False, 'alpha': 1.0, 'max_iter': 2000, 'tol': 0.1, 'fit_intercept': False}\n",
      "0.188766 (0.019525) with: {'normalize': True, 'alpha': 10.0, 'max_iter': 500, 'tol': 0.001, 'fit_intercept': True}\n",
      "0.188766 (0.019525) with: {'normalize': True, 'alpha': 10.0, 'max_iter': 500, 'tol': 0.01, 'fit_intercept': True}\n",
      "0.188766 (0.019525) with: {'normalize': True, 'alpha': 10.0, 'max_iter': 500, 'tol': 0.05, 'fit_intercept': True}\n",
      "0.188766 (0.019525) with: {'normalize': True, 'alpha': 10.0, 'max_iter': 500, 'tol': 0.1, 'fit_intercept': True}\n",
      "0.641114 (0.057208) with: {'normalize': False, 'alpha': 10.0, 'max_iter': 500, 'tol': 0.001, 'fit_intercept': True}\n",
      "0.641114 (0.057208) with: {'normalize': False, 'alpha': 10.0, 'max_iter': 500, 'tol': 0.01, 'fit_intercept': True}\n",
      "0.641114 (0.057208) with: {'normalize': False, 'alpha': 10.0, 'max_iter': 500, 'tol': 0.05, 'fit_intercept': True}\n",
      "0.641114 (0.057208) with: {'normalize': False, 'alpha': 10.0, 'max_iter': 500, 'tol': 0.1, 'fit_intercept': True}\n",
      "0.188766 (0.019525) with: {'normalize': True, 'alpha': 10.0, 'max_iter': 1000, 'tol': 0.001, 'fit_intercept': True}\n",
      "0.188766 (0.019525) with: {'normalize': True, 'alpha': 10.0, 'max_iter': 1000, 'tol': 0.01, 'fit_intercept': True}\n",
      "0.188766 (0.019525) with: {'normalize': True, 'alpha': 10.0, 'max_iter': 1000, 'tol': 0.05, 'fit_intercept': True}\n",
      "0.188766 (0.019525) with: {'normalize': True, 'alpha': 10.0, 'max_iter': 1000, 'tol': 0.1, 'fit_intercept': True}\n",
      "0.641114 (0.057208) with: {'normalize': False, 'alpha': 10.0, 'max_iter': 1000, 'tol': 0.001, 'fit_intercept': True}\n",
      "0.641114 (0.057208) with: {'normalize': False, 'alpha': 10.0, 'max_iter': 1000, 'tol': 0.01, 'fit_intercept': True}\n",
      "0.641114 (0.057208) with: {'normalize': False, 'alpha': 10.0, 'max_iter': 1000, 'tol': 0.05, 'fit_intercept': True}\n",
      "0.641114 (0.057208) with: {'normalize': False, 'alpha': 10.0, 'max_iter': 1000, 'tol': 0.1, 'fit_intercept': True}\n",
      "0.188766 (0.019525) with: {'normalize': True, 'alpha': 10.0, 'max_iter': 2000, 'tol': 0.001, 'fit_intercept': True}\n",
      "0.188766 (0.019525) with: {'normalize': True, 'alpha': 10.0, 'max_iter': 2000, 'tol': 0.01, 'fit_intercept': True}\n",
      "0.188766 (0.019525) with: {'normalize': True, 'alpha': 10.0, 'max_iter': 2000, 'tol': 0.05, 'fit_intercept': True}\n",
      "0.188766 (0.019525) with: {'normalize': True, 'alpha': 10.0, 'max_iter': 2000, 'tol': 0.1, 'fit_intercept': True}\n",
      "0.641114 (0.057208) with: {'normalize': False, 'alpha': 10.0, 'max_iter': 2000, 'tol': 0.001, 'fit_intercept': True}\n",
      "0.641114 (0.057208) with: {'normalize': False, 'alpha': 10.0, 'max_iter': 2000, 'tol': 0.01, 'fit_intercept': True}\n",
      "0.641114 (0.057208) with: {'normalize': False, 'alpha': 10.0, 'max_iter': 2000, 'tol': 0.05, 'fit_intercept': True}\n",
      "0.641114 (0.057208) with: {'normalize': False, 'alpha': 10.0, 'max_iter': 2000, 'tol': 0.1, 'fit_intercept': True}\n",
      "0.637343 (0.058264) with: {'normalize': True, 'alpha': 10.0, 'max_iter': 500, 'tol': 0.001, 'fit_intercept': False}\n",
      "0.637343 (0.058264) with: {'normalize': True, 'alpha': 10.0, 'max_iter': 500, 'tol': 0.01, 'fit_intercept': False}\n",
      "0.637343 (0.058264) with: {'normalize': True, 'alpha': 10.0, 'max_iter': 500, 'tol': 0.05, 'fit_intercept': False}\n",
      "0.637343 (0.058264) with: {'normalize': True, 'alpha': 10.0, 'max_iter': 500, 'tol': 0.1, 'fit_intercept': False}\n",
      "0.637343 (0.058264) with: {'normalize': False, 'alpha': 10.0, 'max_iter': 500, 'tol': 0.001, 'fit_intercept': False}\n",
      "0.637343 (0.058264) with: {'normalize': False, 'alpha': 10.0, 'max_iter': 500, 'tol': 0.01, 'fit_intercept': False}\n",
      "0.637343 (0.058264) with: {'normalize': False, 'alpha': 10.0, 'max_iter': 500, 'tol': 0.05, 'fit_intercept': False}\n",
      "0.637343 (0.058264) with: {'normalize': False, 'alpha': 10.0, 'max_iter': 500, 'tol': 0.1, 'fit_intercept': False}\n",
      "0.637343 (0.058264) with: {'normalize': True, 'alpha': 10.0, 'max_iter': 1000, 'tol': 0.001, 'fit_intercept': False}\n",
      "0.637343 (0.058264) with: {'normalize': True, 'alpha': 10.0, 'max_iter': 1000, 'tol': 0.01, 'fit_intercept': False}\n",
      "0.637343 (0.058264) with: {'normalize': True, 'alpha': 10.0, 'max_iter': 1000, 'tol': 0.05, 'fit_intercept': False}\n",
      "0.637343 (0.058264) with: {'normalize': True, 'alpha': 10.0, 'max_iter': 1000, 'tol': 0.1, 'fit_intercept': False}\n",
      "0.637343 (0.058264) with: {'normalize': False, 'alpha': 10.0, 'max_iter': 1000, 'tol': 0.001, 'fit_intercept': False}\n",
      "0.637343 (0.058264) with: {'normalize': False, 'alpha': 10.0, 'max_iter': 1000, 'tol': 0.01, 'fit_intercept': False}\n",
      "0.637343 (0.058264) with: {'normalize': False, 'alpha': 10.0, 'max_iter': 1000, 'tol': 0.05, 'fit_intercept': False}\n",
      "0.637343 (0.058264) with: {'normalize': False, 'alpha': 10.0, 'max_iter': 1000, 'tol': 0.1, 'fit_intercept': False}\n",
      "0.637343 (0.058264) with: {'normalize': True, 'alpha': 10.0, 'max_iter': 2000, 'tol': 0.001, 'fit_intercept': False}\n",
      "0.637343 (0.058264) with: {'normalize': True, 'alpha': 10.0, 'max_iter': 2000, 'tol': 0.01, 'fit_intercept': False}\n",
      "0.637343 (0.058264) with: {'normalize': True, 'alpha': 10.0, 'max_iter': 2000, 'tol': 0.05, 'fit_intercept': False}\n",
      "0.637343 (0.058264) with: {'normalize': True, 'alpha': 10.0, 'max_iter': 2000, 'tol': 0.1, 'fit_intercept': False}\n",
      "0.637343 (0.058264) with: {'normalize': False, 'alpha': 10.0, 'max_iter': 2000, 'tol': 0.001, 'fit_intercept': False}\n",
      "0.637343 (0.058264) with: {'normalize': False, 'alpha': 10.0, 'max_iter': 2000, 'tol': 0.01, 'fit_intercept': False}\n",
      "0.637343 (0.058264) with: {'normalize': False, 'alpha': 10.0, 'max_iter': 2000, 'tol': 0.05, 'fit_intercept': False}\n",
      "0.637343 (0.058264) with: {'normalize': False, 'alpha': 10.0, 'max_iter': 2000, 'tol': 0.1, 'fit_intercept': False}\n"
     ]
    }
   ],
   "source": [
    "print(Ridge_cv.best_score_)\n",
    "print(Ridge_cv.best_params_)\n",
    "\n",
    "means = Ridge_cv.cv_results_['mean_test_score']\n",
    "stds = Ridge_cv.cv_results_['std_test_score']\n",
    "params = Ridge_cv.cv_results_['params']\n",
    "for mean, stdev, param in zip(means, stds, params):\n",
    "    print(\"%f (%f) with: %r\" % (mean, stdev, param))"
   ]
  },
  {
   "cell_type": "code",
   "execution_count": null,
   "metadata": {
    "collapsed": true
   },
   "outputs": [],
   "source": [
    "Ridge_params = {\n",
    "    'alpha': [7.5, 10.0, 12.5],\n",
    "    'fit_intercept': [True, False],\n",
    "    'normalize': [True, False],\n",
    "    'max_iter': [500, 1000, 2000],\n",
    "    'tol': [0.001, 0.01, 0.05, 0.1]\n",
    "}\n",
    "\n",
    "Ridge_cv = GridSearchCV(Ridge_reg, Ridge_params, cv = 5, verbose=1, n_jobs = -1)\n",
    "Ridge_cv.fit(stacked_columns_train, y)"
   ]
  },
  {
   "cell_type": "code",
   "execution_count": null,
   "metadata": {
    "collapsed": true
   },
   "outputs": [],
   "source": [
    "print(Ridge_cv.best_score_)\n",
    "print(Ridge_cv.best_params_)\n",
    "\n",
    "means = Ridge_cv.cv_results_['mean_test_score']\n",
    "stds = Ridge_cv.cv_results_['std_test_score']\n",
    "params = Ridge_cv.cv_results_['params']\n",
    "for mean, stdev, param in zip(means, stds, params):\n",
    "    print(\"%f (%f) with: %r\" % (mean, stdev, param))"
   ]
  },
  {
   "cell_type": "markdown",
   "metadata": {},
   "source": [
    "## Trying stacking with SVR"
   ]
  },
  {
   "cell_type": "code",
   "execution_count": 71,
   "metadata": {
    "collapsed": false
   },
   "outputs": [],
   "source": [
    "avg_all_results = np.sum(np.column_stack((3*stacked_columns_test, 2*y_test_lasso, y_test_rbf)), axis = 1)/8.0"
   ]
  },
  {
   "cell_type": "code",
   "execution_count": 68,
   "metadata": {
    "collapsed": false
   },
   "outputs": [
    {
     "name": "stdout",
     "output_type": "stream",
     "text": [
      "[  79.92770386   97.54924011   78.85188293 ...,   92.44129944  111.06360626\n",
      "   92.24983978]\n"
     ]
    }
   ],
   "source": [
    "print avg_all_results"
   ]
  },
  {
   "cell_type": "code",
   "execution_count": 72,
   "metadata": {
    "collapsed": false
   },
   "outputs": [
    {
     "name": "stdout",
     "output_type": "stream",
     "text": [
      "[  91.00233882  115.13547242   88.58579913 ...,  103.70529185  124.6283283\n",
      "  103.40571257]\n"
     ]
    }
   ],
   "source": [
    "print avg_all_results"
   ]
  },
  {
   "cell_type": "code",
   "execution_count": 70,
   "metadata": {
    "collapsed": true
   },
   "outputs": [],
   "source": [
    "output = pd.DataFrame({'id': test['ID'].astype(np.int32), 'y': avg_all_results})\n",
    "output.to_csv('../results/avg_strng_0628.csv', index=False)"
   ]
  },
  {
   "cell_type": "code",
   "execution_count": 73,
   "metadata": {
    "collapsed": true
   },
   "outputs": [],
   "source": [
    "output = pd.DataFrame({'id': test['ID'].astype(np.int32), 'y': y_test_rbf})\n",
    "output.to_csv('../results/svr_rbf.csv', index=False)"
   ]
  },
  {
   "cell_type": "code",
   "execution_count": null,
   "metadata": {
    "collapsed": true
   },
   "outputs": [],
   "source": []
  }
 ],
 "metadata": {
  "kernelspec": {
   "display_name": "Python 2",
   "language": "python",
   "name": "python2"
  },
  "language_info": {
   "codemirror_mode": {
    "name": "ipython",
    "version": 2
   },
   "file_extension": ".py",
   "mimetype": "text/x-python",
   "name": "python",
   "nbconvert_exporter": "python",
   "pygments_lexer": "ipython2",
   "version": "2.7.13"
  }
 },
 "nbformat": 4,
 "nbformat_minor": 2
}
